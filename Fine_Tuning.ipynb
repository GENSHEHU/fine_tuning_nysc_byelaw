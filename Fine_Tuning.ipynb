{
  "nbformat": 4,
  "nbformat_minor": 0,
  "metadata": {
    "colab": {
      "provenance": [],
      "gpuType": "T4",
      "authorship_tag": "ABX9TyMqBHoc7AXvYk5p6U5LyRyM",
      "include_colab_link": true
    },
    "kernelspec": {
      "name": "python3",
      "display_name": "Python 3"
    },
    "language_info": {
      "name": "python"
    },
    "accelerator": "GPU",
    "widgets": {
      "application/vnd.jupyter.widget-state+json": {
        "4f68bd2e5bcb4c8d8cf8a04863114e7c": {
          "model_module": "@jupyter-widgets/controls",
          "model_name": "HBoxModel",
          "model_module_version": "1.5.0",
          "state": {
            "_dom_classes": [],
            "_model_module": "@jupyter-widgets/controls",
            "_model_module_version": "1.5.0",
            "_model_name": "HBoxModel",
            "_view_count": null,
            "_view_module": "@jupyter-widgets/controls",
            "_view_module_version": "1.5.0",
            "_view_name": "HBoxView",
            "box_style": "",
            "children": [
              "IPY_MODEL_f19681e3a97e437286985510befb9f79",
              "IPY_MODEL_3ff579e292b24a7f9a730968b6339d8d",
              "IPY_MODEL_fc46c1a832be497ab64c1e0b2e0cb93e"
            ],
            "layout": "IPY_MODEL_d27631d0a114452aa64d5ae49886a9d0"
          }
        },
        "f19681e3a97e437286985510befb9f79": {
          "model_module": "@jupyter-widgets/controls",
          "model_name": "HTMLModel",
          "model_module_version": "1.5.0",
          "state": {
            "_dom_classes": [],
            "_model_module": "@jupyter-widgets/controls",
            "_model_module_version": "1.5.0",
            "_model_name": "HTMLModel",
            "_view_count": null,
            "_view_module": "@jupyter-widgets/controls",
            "_view_module_version": "1.5.0",
            "_view_name": "HTMLView",
            "description": "",
            "description_tooltip": null,
            "layout": "IPY_MODEL_ee34f1cfebae4c4790401bdc30ee0258",
            "placeholder": "​",
            "style": "IPY_MODEL_592788657f18403fab322eb04662dd4c",
            "value": "tokenizer_config.json: 100%"
          }
        },
        "3ff579e292b24a7f9a730968b6339d8d": {
          "model_module": "@jupyter-widgets/controls",
          "model_name": "FloatProgressModel",
          "model_module_version": "1.5.0",
          "state": {
            "_dom_classes": [],
            "_model_module": "@jupyter-widgets/controls",
            "_model_module_version": "1.5.0",
            "_model_name": "FloatProgressModel",
            "_view_count": null,
            "_view_module": "@jupyter-widgets/controls",
            "_view_module_version": "1.5.0",
            "_view_name": "ProgressView",
            "bar_style": "success",
            "description": "",
            "description_tooltip": null,
            "layout": "IPY_MODEL_423b5b3f32f3434d90bb990359cf9c13",
            "max": 26,
            "min": 0,
            "orientation": "horizontal",
            "style": "IPY_MODEL_07e26c9261414fc7b6cc197445574165",
            "value": 26
          }
        },
        "fc46c1a832be497ab64c1e0b2e0cb93e": {
          "model_module": "@jupyter-widgets/controls",
          "model_name": "HTMLModel",
          "model_module_version": "1.5.0",
          "state": {
            "_dom_classes": [],
            "_model_module": "@jupyter-widgets/controls",
            "_model_module_version": "1.5.0",
            "_model_name": "HTMLModel",
            "_view_count": null,
            "_view_module": "@jupyter-widgets/controls",
            "_view_module_version": "1.5.0",
            "_view_name": "HTMLView",
            "description": "",
            "description_tooltip": null,
            "layout": "IPY_MODEL_a10b95a02634498fa7414dad390f25cd",
            "placeholder": "​",
            "style": "IPY_MODEL_fa7ca24ce35d4c209c1856d36b8947be",
            "value": " 26.0/26.0 [00:00&lt;00:00, 1.44kB/s]"
          }
        },
        "d27631d0a114452aa64d5ae49886a9d0": {
          "model_module": "@jupyter-widgets/base",
          "model_name": "LayoutModel",
          "model_module_version": "1.2.0",
          "state": {
            "_model_module": "@jupyter-widgets/base",
            "_model_module_version": "1.2.0",
            "_model_name": "LayoutModel",
            "_view_count": null,
            "_view_module": "@jupyter-widgets/base",
            "_view_module_version": "1.2.0",
            "_view_name": "LayoutView",
            "align_content": null,
            "align_items": null,
            "align_self": null,
            "border": null,
            "bottom": null,
            "display": null,
            "flex": null,
            "flex_flow": null,
            "grid_area": null,
            "grid_auto_columns": null,
            "grid_auto_flow": null,
            "grid_auto_rows": null,
            "grid_column": null,
            "grid_gap": null,
            "grid_row": null,
            "grid_template_areas": null,
            "grid_template_columns": null,
            "grid_template_rows": null,
            "height": null,
            "justify_content": null,
            "justify_items": null,
            "left": null,
            "margin": null,
            "max_height": null,
            "max_width": null,
            "min_height": null,
            "min_width": null,
            "object_fit": null,
            "object_position": null,
            "order": null,
            "overflow": null,
            "overflow_x": null,
            "overflow_y": null,
            "padding": null,
            "right": null,
            "top": null,
            "visibility": null,
            "width": null
          }
        },
        "ee34f1cfebae4c4790401bdc30ee0258": {
          "model_module": "@jupyter-widgets/base",
          "model_name": "LayoutModel",
          "model_module_version": "1.2.0",
          "state": {
            "_model_module": "@jupyter-widgets/base",
            "_model_module_version": "1.2.0",
            "_model_name": "LayoutModel",
            "_view_count": null,
            "_view_module": "@jupyter-widgets/base",
            "_view_module_version": "1.2.0",
            "_view_name": "LayoutView",
            "align_content": null,
            "align_items": null,
            "align_self": null,
            "border": null,
            "bottom": null,
            "display": null,
            "flex": null,
            "flex_flow": null,
            "grid_area": null,
            "grid_auto_columns": null,
            "grid_auto_flow": null,
            "grid_auto_rows": null,
            "grid_column": null,
            "grid_gap": null,
            "grid_row": null,
            "grid_template_areas": null,
            "grid_template_columns": null,
            "grid_template_rows": null,
            "height": null,
            "justify_content": null,
            "justify_items": null,
            "left": null,
            "margin": null,
            "max_height": null,
            "max_width": null,
            "min_height": null,
            "min_width": null,
            "object_fit": null,
            "object_position": null,
            "order": null,
            "overflow": null,
            "overflow_x": null,
            "overflow_y": null,
            "padding": null,
            "right": null,
            "top": null,
            "visibility": null,
            "width": null
          }
        },
        "592788657f18403fab322eb04662dd4c": {
          "model_module": "@jupyter-widgets/controls",
          "model_name": "DescriptionStyleModel",
          "model_module_version": "1.5.0",
          "state": {
            "_model_module": "@jupyter-widgets/controls",
            "_model_module_version": "1.5.0",
            "_model_name": "DescriptionStyleModel",
            "_view_count": null,
            "_view_module": "@jupyter-widgets/base",
            "_view_module_version": "1.2.0",
            "_view_name": "StyleView",
            "description_width": ""
          }
        },
        "423b5b3f32f3434d90bb990359cf9c13": {
          "model_module": "@jupyter-widgets/base",
          "model_name": "LayoutModel",
          "model_module_version": "1.2.0",
          "state": {
            "_model_module": "@jupyter-widgets/base",
            "_model_module_version": "1.2.0",
            "_model_name": "LayoutModel",
            "_view_count": null,
            "_view_module": "@jupyter-widgets/base",
            "_view_module_version": "1.2.0",
            "_view_name": "LayoutView",
            "align_content": null,
            "align_items": null,
            "align_self": null,
            "border": null,
            "bottom": null,
            "display": null,
            "flex": null,
            "flex_flow": null,
            "grid_area": null,
            "grid_auto_columns": null,
            "grid_auto_flow": null,
            "grid_auto_rows": null,
            "grid_column": null,
            "grid_gap": null,
            "grid_row": null,
            "grid_template_areas": null,
            "grid_template_columns": null,
            "grid_template_rows": null,
            "height": null,
            "justify_content": null,
            "justify_items": null,
            "left": null,
            "margin": null,
            "max_height": null,
            "max_width": null,
            "min_height": null,
            "min_width": null,
            "object_fit": null,
            "object_position": null,
            "order": null,
            "overflow": null,
            "overflow_x": null,
            "overflow_y": null,
            "padding": null,
            "right": null,
            "top": null,
            "visibility": null,
            "width": null
          }
        },
        "07e26c9261414fc7b6cc197445574165": {
          "model_module": "@jupyter-widgets/controls",
          "model_name": "ProgressStyleModel",
          "model_module_version": "1.5.0",
          "state": {
            "_model_module": "@jupyter-widgets/controls",
            "_model_module_version": "1.5.0",
            "_model_name": "ProgressStyleModel",
            "_view_count": null,
            "_view_module": "@jupyter-widgets/base",
            "_view_module_version": "1.2.0",
            "_view_name": "StyleView",
            "bar_color": null,
            "description_width": ""
          }
        },
        "a10b95a02634498fa7414dad390f25cd": {
          "model_module": "@jupyter-widgets/base",
          "model_name": "LayoutModel",
          "model_module_version": "1.2.0",
          "state": {
            "_model_module": "@jupyter-widgets/base",
            "_model_module_version": "1.2.0",
            "_model_name": "LayoutModel",
            "_view_count": null,
            "_view_module": "@jupyter-widgets/base",
            "_view_module_version": "1.2.0",
            "_view_name": "LayoutView",
            "align_content": null,
            "align_items": null,
            "align_self": null,
            "border": null,
            "bottom": null,
            "display": null,
            "flex": null,
            "flex_flow": null,
            "grid_area": null,
            "grid_auto_columns": null,
            "grid_auto_flow": null,
            "grid_auto_rows": null,
            "grid_column": null,
            "grid_gap": null,
            "grid_row": null,
            "grid_template_areas": null,
            "grid_template_columns": null,
            "grid_template_rows": null,
            "height": null,
            "justify_content": null,
            "justify_items": null,
            "left": null,
            "margin": null,
            "max_height": null,
            "max_width": null,
            "min_height": null,
            "min_width": null,
            "object_fit": null,
            "object_position": null,
            "order": null,
            "overflow": null,
            "overflow_x": null,
            "overflow_y": null,
            "padding": null,
            "right": null,
            "top": null,
            "visibility": null,
            "width": null
          }
        },
        "fa7ca24ce35d4c209c1856d36b8947be": {
          "model_module": "@jupyter-widgets/controls",
          "model_name": "DescriptionStyleModel",
          "model_module_version": "1.5.0",
          "state": {
            "_model_module": "@jupyter-widgets/controls",
            "_model_module_version": "1.5.0",
            "_model_name": "DescriptionStyleModel",
            "_view_count": null,
            "_view_module": "@jupyter-widgets/base",
            "_view_module_version": "1.2.0",
            "_view_name": "StyleView",
            "description_width": ""
          }
        },
        "7b29dc47d6b84419b57433cc083ac7e0": {
          "model_module": "@jupyter-widgets/controls",
          "model_name": "HBoxModel",
          "model_module_version": "1.5.0",
          "state": {
            "_dom_classes": [],
            "_model_module": "@jupyter-widgets/controls",
            "_model_module_version": "1.5.0",
            "_model_name": "HBoxModel",
            "_view_count": null,
            "_view_module": "@jupyter-widgets/controls",
            "_view_module_version": "1.5.0",
            "_view_name": "HBoxView",
            "box_style": "",
            "children": [
              "IPY_MODEL_727f13f4153644cc82355872cdb50641",
              "IPY_MODEL_0d6e8d89007945e5b526b818ae4d4d0e",
              "IPY_MODEL_23fc58cee4e744b39d34d79f165d0742"
            ],
            "layout": "IPY_MODEL_c9c585e2630a4d00b853c7fce75e4c2b"
          }
        },
        "727f13f4153644cc82355872cdb50641": {
          "model_module": "@jupyter-widgets/controls",
          "model_name": "HTMLModel",
          "model_module_version": "1.5.0",
          "state": {
            "_dom_classes": [],
            "_model_module": "@jupyter-widgets/controls",
            "_model_module_version": "1.5.0",
            "_model_name": "HTMLModel",
            "_view_count": null,
            "_view_module": "@jupyter-widgets/controls",
            "_view_module_version": "1.5.0",
            "_view_name": "HTMLView",
            "description": "",
            "description_tooltip": null,
            "layout": "IPY_MODEL_ae7f05b6a64f45e5ab31ded4dc791f71",
            "placeholder": "​",
            "style": "IPY_MODEL_99d7be8ed0b04b469e5c63d1d4e72fa9",
            "value": "vocab.json: 100%"
          }
        },
        "0d6e8d89007945e5b526b818ae4d4d0e": {
          "model_module": "@jupyter-widgets/controls",
          "model_name": "FloatProgressModel",
          "model_module_version": "1.5.0",
          "state": {
            "_dom_classes": [],
            "_model_module": "@jupyter-widgets/controls",
            "_model_module_version": "1.5.0",
            "_model_name": "FloatProgressModel",
            "_view_count": null,
            "_view_module": "@jupyter-widgets/controls",
            "_view_module_version": "1.5.0",
            "_view_name": "ProgressView",
            "bar_style": "success",
            "description": "",
            "description_tooltip": null,
            "layout": "IPY_MODEL_05afebc5ee994034919279ea1a71fe9a",
            "max": 1042301,
            "min": 0,
            "orientation": "horizontal",
            "style": "IPY_MODEL_89787e9c40894f40af94e318a1167e2a",
            "value": 1042301
          }
        },
        "23fc58cee4e744b39d34d79f165d0742": {
          "model_module": "@jupyter-widgets/controls",
          "model_name": "HTMLModel",
          "model_module_version": "1.5.0",
          "state": {
            "_dom_classes": [],
            "_model_module": "@jupyter-widgets/controls",
            "_model_module_version": "1.5.0",
            "_model_name": "HTMLModel",
            "_view_count": null,
            "_view_module": "@jupyter-widgets/controls",
            "_view_module_version": "1.5.0",
            "_view_name": "HTMLView",
            "description": "",
            "description_tooltip": null,
            "layout": "IPY_MODEL_6266a78d90684547a505728d103bc875",
            "placeholder": "​",
            "style": "IPY_MODEL_1ce848cd760c4965b5650eb84cee83e4",
            "value": " 1.04M/1.04M [00:00&lt;00:00, 25.7MB/s]"
          }
        },
        "c9c585e2630a4d00b853c7fce75e4c2b": {
          "model_module": "@jupyter-widgets/base",
          "model_name": "LayoutModel",
          "model_module_version": "1.2.0",
          "state": {
            "_model_module": "@jupyter-widgets/base",
            "_model_module_version": "1.2.0",
            "_model_name": "LayoutModel",
            "_view_count": null,
            "_view_module": "@jupyter-widgets/base",
            "_view_module_version": "1.2.0",
            "_view_name": "LayoutView",
            "align_content": null,
            "align_items": null,
            "align_self": null,
            "border": null,
            "bottom": null,
            "display": null,
            "flex": null,
            "flex_flow": null,
            "grid_area": null,
            "grid_auto_columns": null,
            "grid_auto_flow": null,
            "grid_auto_rows": null,
            "grid_column": null,
            "grid_gap": null,
            "grid_row": null,
            "grid_template_areas": null,
            "grid_template_columns": null,
            "grid_template_rows": null,
            "height": null,
            "justify_content": null,
            "justify_items": null,
            "left": null,
            "margin": null,
            "max_height": null,
            "max_width": null,
            "min_height": null,
            "min_width": null,
            "object_fit": null,
            "object_position": null,
            "order": null,
            "overflow": null,
            "overflow_x": null,
            "overflow_y": null,
            "padding": null,
            "right": null,
            "top": null,
            "visibility": null,
            "width": null
          }
        },
        "ae7f05b6a64f45e5ab31ded4dc791f71": {
          "model_module": "@jupyter-widgets/base",
          "model_name": "LayoutModel",
          "model_module_version": "1.2.0",
          "state": {
            "_model_module": "@jupyter-widgets/base",
            "_model_module_version": "1.2.0",
            "_model_name": "LayoutModel",
            "_view_count": null,
            "_view_module": "@jupyter-widgets/base",
            "_view_module_version": "1.2.0",
            "_view_name": "LayoutView",
            "align_content": null,
            "align_items": null,
            "align_self": null,
            "border": null,
            "bottom": null,
            "display": null,
            "flex": null,
            "flex_flow": null,
            "grid_area": null,
            "grid_auto_columns": null,
            "grid_auto_flow": null,
            "grid_auto_rows": null,
            "grid_column": null,
            "grid_gap": null,
            "grid_row": null,
            "grid_template_areas": null,
            "grid_template_columns": null,
            "grid_template_rows": null,
            "height": null,
            "justify_content": null,
            "justify_items": null,
            "left": null,
            "margin": null,
            "max_height": null,
            "max_width": null,
            "min_height": null,
            "min_width": null,
            "object_fit": null,
            "object_position": null,
            "order": null,
            "overflow": null,
            "overflow_x": null,
            "overflow_y": null,
            "padding": null,
            "right": null,
            "top": null,
            "visibility": null,
            "width": null
          }
        },
        "99d7be8ed0b04b469e5c63d1d4e72fa9": {
          "model_module": "@jupyter-widgets/controls",
          "model_name": "DescriptionStyleModel",
          "model_module_version": "1.5.0",
          "state": {
            "_model_module": "@jupyter-widgets/controls",
            "_model_module_version": "1.5.0",
            "_model_name": "DescriptionStyleModel",
            "_view_count": null,
            "_view_module": "@jupyter-widgets/base",
            "_view_module_version": "1.2.0",
            "_view_name": "StyleView",
            "description_width": ""
          }
        },
        "05afebc5ee994034919279ea1a71fe9a": {
          "model_module": "@jupyter-widgets/base",
          "model_name": "LayoutModel",
          "model_module_version": "1.2.0",
          "state": {
            "_model_module": "@jupyter-widgets/base",
            "_model_module_version": "1.2.0",
            "_model_name": "LayoutModel",
            "_view_count": null,
            "_view_module": "@jupyter-widgets/base",
            "_view_module_version": "1.2.0",
            "_view_name": "LayoutView",
            "align_content": null,
            "align_items": null,
            "align_self": null,
            "border": null,
            "bottom": null,
            "display": null,
            "flex": null,
            "flex_flow": null,
            "grid_area": null,
            "grid_auto_columns": null,
            "grid_auto_flow": null,
            "grid_auto_rows": null,
            "grid_column": null,
            "grid_gap": null,
            "grid_row": null,
            "grid_template_areas": null,
            "grid_template_columns": null,
            "grid_template_rows": null,
            "height": null,
            "justify_content": null,
            "justify_items": null,
            "left": null,
            "margin": null,
            "max_height": null,
            "max_width": null,
            "min_height": null,
            "min_width": null,
            "object_fit": null,
            "object_position": null,
            "order": null,
            "overflow": null,
            "overflow_x": null,
            "overflow_y": null,
            "padding": null,
            "right": null,
            "top": null,
            "visibility": null,
            "width": null
          }
        },
        "89787e9c40894f40af94e318a1167e2a": {
          "model_module": "@jupyter-widgets/controls",
          "model_name": "ProgressStyleModel",
          "model_module_version": "1.5.0",
          "state": {
            "_model_module": "@jupyter-widgets/controls",
            "_model_module_version": "1.5.0",
            "_model_name": "ProgressStyleModel",
            "_view_count": null,
            "_view_module": "@jupyter-widgets/base",
            "_view_module_version": "1.2.0",
            "_view_name": "StyleView",
            "bar_color": null,
            "description_width": ""
          }
        },
        "6266a78d90684547a505728d103bc875": {
          "model_module": "@jupyter-widgets/base",
          "model_name": "LayoutModel",
          "model_module_version": "1.2.0",
          "state": {
            "_model_module": "@jupyter-widgets/base",
            "_model_module_version": "1.2.0",
            "_model_name": "LayoutModel",
            "_view_count": null,
            "_view_module": "@jupyter-widgets/base",
            "_view_module_version": "1.2.0",
            "_view_name": "LayoutView",
            "align_content": null,
            "align_items": null,
            "align_self": null,
            "border": null,
            "bottom": null,
            "display": null,
            "flex": null,
            "flex_flow": null,
            "grid_area": null,
            "grid_auto_columns": null,
            "grid_auto_flow": null,
            "grid_auto_rows": null,
            "grid_column": null,
            "grid_gap": null,
            "grid_row": null,
            "grid_template_areas": null,
            "grid_template_columns": null,
            "grid_template_rows": null,
            "height": null,
            "justify_content": null,
            "justify_items": null,
            "left": null,
            "margin": null,
            "max_height": null,
            "max_width": null,
            "min_height": null,
            "min_width": null,
            "object_fit": null,
            "object_position": null,
            "order": null,
            "overflow": null,
            "overflow_x": null,
            "overflow_y": null,
            "padding": null,
            "right": null,
            "top": null,
            "visibility": null,
            "width": null
          }
        },
        "1ce848cd760c4965b5650eb84cee83e4": {
          "model_module": "@jupyter-widgets/controls",
          "model_name": "DescriptionStyleModel",
          "model_module_version": "1.5.0",
          "state": {
            "_model_module": "@jupyter-widgets/controls",
            "_model_module_version": "1.5.0",
            "_model_name": "DescriptionStyleModel",
            "_view_count": null,
            "_view_module": "@jupyter-widgets/base",
            "_view_module_version": "1.2.0",
            "_view_name": "StyleView",
            "description_width": ""
          }
        },
        "c0e223d1494942999e30ebd1c67e55a7": {
          "model_module": "@jupyter-widgets/controls",
          "model_name": "HBoxModel",
          "model_module_version": "1.5.0",
          "state": {
            "_dom_classes": [],
            "_model_module": "@jupyter-widgets/controls",
            "_model_module_version": "1.5.0",
            "_model_name": "HBoxModel",
            "_view_count": null,
            "_view_module": "@jupyter-widgets/controls",
            "_view_module_version": "1.5.0",
            "_view_name": "HBoxView",
            "box_style": "",
            "children": [
              "IPY_MODEL_188f6aad6bdc4140b6cd3c91233b36d9",
              "IPY_MODEL_942900d5faeb471da3c926c6326aacb0",
              "IPY_MODEL_999dd236d59544e7b8cf786585f01932"
            ],
            "layout": "IPY_MODEL_4de370b0eaa04ff5ade82755ed587324"
          }
        },
        "188f6aad6bdc4140b6cd3c91233b36d9": {
          "model_module": "@jupyter-widgets/controls",
          "model_name": "HTMLModel",
          "model_module_version": "1.5.0",
          "state": {
            "_dom_classes": [],
            "_model_module": "@jupyter-widgets/controls",
            "_model_module_version": "1.5.0",
            "_model_name": "HTMLModel",
            "_view_count": null,
            "_view_module": "@jupyter-widgets/controls",
            "_view_module_version": "1.5.0",
            "_view_name": "HTMLView",
            "description": "",
            "description_tooltip": null,
            "layout": "IPY_MODEL_ed41594bd02f4063add0c499ac8c5d5b",
            "placeholder": "​",
            "style": "IPY_MODEL_fb892d44d545482f8c13043ad06c10b9",
            "value": "merges.txt: 100%"
          }
        },
        "942900d5faeb471da3c926c6326aacb0": {
          "model_module": "@jupyter-widgets/controls",
          "model_name": "FloatProgressModel",
          "model_module_version": "1.5.0",
          "state": {
            "_dom_classes": [],
            "_model_module": "@jupyter-widgets/controls",
            "_model_module_version": "1.5.0",
            "_model_name": "FloatProgressModel",
            "_view_count": null,
            "_view_module": "@jupyter-widgets/controls",
            "_view_module_version": "1.5.0",
            "_view_name": "ProgressView",
            "bar_style": "success",
            "description": "",
            "description_tooltip": null,
            "layout": "IPY_MODEL_0763477d72e44b94a53823316a721df5",
            "max": 456318,
            "min": 0,
            "orientation": "horizontal",
            "style": "IPY_MODEL_1fc46f30988e49c1a32fda94d24a0cf5",
            "value": 456318
          }
        },
        "999dd236d59544e7b8cf786585f01932": {
          "model_module": "@jupyter-widgets/controls",
          "model_name": "HTMLModel",
          "model_module_version": "1.5.0",
          "state": {
            "_dom_classes": [],
            "_model_module": "@jupyter-widgets/controls",
            "_model_module_version": "1.5.0",
            "_model_name": "HTMLModel",
            "_view_count": null,
            "_view_module": "@jupyter-widgets/controls",
            "_view_module_version": "1.5.0",
            "_view_name": "HTMLView",
            "description": "",
            "description_tooltip": null,
            "layout": "IPY_MODEL_2672baf7634b4606be790f1df84e64f1",
            "placeholder": "​",
            "style": "IPY_MODEL_839887ef84e145759135717ca113cdef",
            "value": " 456k/456k [00:00&lt;00:00, 19.0MB/s]"
          }
        },
        "4de370b0eaa04ff5ade82755ed587324": {
          "model_module": "@jupyter-widgets/base",
          "model_name": "LayoutModel",
          "model_module_version": "1.2.0",
          "state": {
            "_model_module": "@jupyter-widgets/base",
            "_model_module_version": "1.2.0",
            "_model_name": "LayoutModel",
            "_view_count": null,
            "_view_module": "@jupyter-widgets/base",
            "_view_module_version": "1.2.0",
            "_view_name": "LayoutView",
            "align_content": null,
            "align_items": null,
            "align_self": null,
            "border": null,
            "bottom": null,
            "display": null,
            "flex": null,
            "flex_flow": null,
            "grid_area": null,
            "grid_auto_columns": null,
            "grid_auto_flow": null,
            "grid_auto_rows": null,
            "grid_column": null,
            "grid_gap": null,
            "grid_row": null,
            "grid_template_areas": null,
            "grid_template_columns": null,
            "grid_template_rows": null,
            "height": null,
            "justify_content": null,
            "justify_items": null,
            "left": null,
            "margin": null,
            "max_height": null,
            "max_width": null,
            "min_height": null,
            "min_width": null,
            "object_fit": null,
            "object_position": null,
            "order": null,
            "overflow": null,
            "overflow_x": null,
            "overflow_y": null,
            "padding": null,
            "right": null,
            "top": null,
            "visibility": null,
            "width": null
          }
        },
        "ed41594bd02f4063add0c499ac8c5d5b": {
          "model_module": "@jupyter-widgets/base",
          "model_name": "LayoutModel",
          "model_module_version": "1.2.0",
          "state": {
            "_model_module": "@jupyter-widgets/base",
            "_model_module_version": "1.2.0",
            "_model_name": "LayoutModel",
            "_view_count": null,
            "_view_module": "@jupyter-widgets/base",
            "_view_module_version": "1.2.0",
            "_view_name": "LayoutView",
            "align_content": null,
            "align_items": null,
            "align_self": null,
            "border": null,
            "bottom": null,
            "display": null,
            "flex": null,
            "flex_flow": null,
            "grid_area": null,
            "grid_auto_columns": null,
            "grid_auto_flow": null,
            "grid_auto_rows": null,
            "grid_column": null,
            "grid_gap": null,
            "grid_row": null,
            "grid_template_areas": null,
            "grid_template_columns": null,
            "grid_template_rows": null,
            "height": null,
            "justify_content": null,
            "justify_items": null,
            "left": null,
            "margin": null,
            "max_height": null,
            "max_width": null,
            "min_height": null,
            "min_width": null,
            "object_fit": null,
            "object_position": null,
            "order": null,
            "overflow": null,
            "overflow_x": null,
            "overflow_y": null,
            "padding": null,
            "right": null,
            "top": null,
            "visibility": null,
            "width": null
          }
        },
        "fb892d44d545482f8c13043ad06c10b9": {
          "model_module": "@jupyter-widgets/controls",
          "model_name": "DescriptionStyleModel",
          "model_module_version": "1.5.0",
          "state": {
            "_model_module": "@jupyter-widgets/controls",
            "_model_module_version": "1.5.0",
            "_model_name": "DescriptionStyleModel",
            "_view_count": null,
            "_view_module": "@jupyter-widgets/base",
            "_view_module_version": "1.2.0",
            "_view_name": "StyleView",
            "description_width": ""
          }
        },
        "0763477d72e44b94a53823316a721df5": {
          "model_module": "@jupyter-widgets/base",
          "model_name": "LayoutModel",
          "model_module_version": "1.2.0",
          "state": {
            "_model_module": "@jupyter-widgets/base",
            "_model_module_version": "1.2.0",
            "_model_name": "LayoutModel",
            "_view_count": null,
            "_view_module": "@jupyter-widgets/base",
            "_view_module_version": "1.2.0",
            "_view_name": "LayoutView",
            "align_content": null,
            "align_items": null,
            "align_self": null,
            "border": null,
            "bottom": null,
            "display": null,
            "flex": null,
            "flex_flow": null,
            "grid_area": null,
            "grid_auto_columns": null,
            "grid_auto_flow": null,
            "grid_auto_rows": null,
            "grid_column": null,
            "grid_gap": null,
            "grid_row": null,
            "grid_template_areas": null,
            "grid_template_columns": null,
            "grid_template_rows": null,
            "height": null,
            "justify_content": null,
            "justify_items": null,
            "left": null,
            "margin": null,
            "max_height": null,
            "max_width": null,
            "min_height": null,
            "min_width": null,
            "object_fit": null,
            "object_position": null,
            "order": null,
            "overflow": null,
            "overflow_x": null,
            "overflow_y": null,
            "padding": null,
            "right": null,
            "top": null,
            "visibility": null,
            "width": null
          }
        },
        "1fc46f30988e49c1a32fda94d24a0cf5": {
          "model_module": "@jupyter-widgets/controls",
          "model_name": "ProgressStyleModel",
          "model_module_version": "1.5.0",
          "state": {
            "_model_module": "@jupyter-widgets/controls",
            "_model_module_version": "1.5.0",
            "_model_name": "ProgressStyleModel",
            "_view_count": null,
            "_view_module": "@jupyter-widgets/base",
            "_view_module_version": "1.2.0",
            "_view_name": "StyleView",
            "bar_color": null,
            "description_width": ""
          }
        },
        "2672baf7634b4606be790f1df84e64f1": {
          "model_module": "@jupyter-widgets/base",
          "model_name": "LayoutModel",
          "model_module_version": "1.2.0",
          "state": {
            "_model_module": "@jupyter-widgets/base",
            "_model_module_version": "1.2.0",
            "_model_name": "LayoutModel",
            "_view_count": null,
            "_view_module": "@jupyter-widgets/base",
            "_view_module_version": "1.2.0",
            "_view_name": "LayoutView",
            "align_content": null,
            "align_items": null,
            "align_self": null,
            "border": null,
            "bottom": null,
            "display": null,
            "flex": null,
            "flex_flow": null,
            "grid_area": null,
            "grid_auto_columns": null,
            "grid_auto_flow": null,
            "grid_auto_rows": null,
            "grid_column": null,
            "grid_gap": null,
            "grid_row": null,
            "grid_template_areas": null,
            "grid_template_columns": null,
            "grid_template_rows": null,
            "height": null,
            "justify_content": null,
            "justify_items": null,
            "left": null,
            "margin": null,
            "max_height": null,
            "max_width": null,
            "min_height": null,
            "min_width": null,
            "object_fit": null,
            "object_position": null,
            "order": null,
            "overflow": null,
            "overflow_x": null,
            "overflow_y": null,
            "padding": null,
            "right": null,
            "top": null,
            "visibility": null,
            "width": null
          }
        },
        "839887ef84e145759135717ca113cdef": {
          "model_module": "@jupyter-widgets/controls",
          "model_name": "DescriptionStyleModel",
          "model_module_version": "1.5.0",
          "state": {
            "_model_module": "@jupyter-widgets/controls",
            "_model_module_version": "1.5.0",
            "_model_name": "DescriptionStyleModel",
            "_view_count": null,
            "_view_module": "@jupyter-widgets/base",
            "_view_module_version": "1.2.0",
            "_view_name": "StyleView",
            "description_width": ""
          }
        },
        "da0e06f19ab248daada5ef135989ebcf": {
          "model_module": "@jupyter-widgets/controls",
          "model_name": "HBoxModel",
          "model_module_version": "1.5.0",
          "state": {
            "_dom_classes": [],
            "_model_module": "@jupyter-widgets/controls",
            "_model_module_version": "1.5.0",
            "_model_name": "HBoxModel",
            "_view_count": null,
            "_view_module": "@jupyter-widgets/controls",
            "_view_module_version": "1.5.0",
            "_view_name": "HBoxView",
            "box_style": "",
            "children": [
              "IPY_MODEL_520e6d79936243b0bd1dc613e014744e",
              "IPY_MODEL_1da1f54df73e471994ad8a3d65c1bd12",
              "IPY_MODEL_3f7df86d2c9f482e80154171f20c62f9"
            ],
            "layout": "IPY_MODEL_67e046b8f3be48a9b960c256999865b9"
          }
        },
        "520e6d79936243b0bd1dc613e014744e": {
          "model_module": "@jupyter-widgets/controls",
          "model_name": "HTMLModel",
          "model_module_version": "1.5.0",
          "state": {
            "_dom_classes": [],
            "_model_module": "@jupyter-widgets/controls",
            "_model_module_version": "1.5.0",
            "_model_name": "HTMLModel",
            "_view_count": null,
            "_view_module": "@jupyter-widgets/controls",
            "_view_module_version": "1.5.0",
            "_view_name": "HTMLView",
            "description": "",
            "description_tooltip": null,
            "layout": "IPY_MODEL_6007eaa86f0e41cd9fa06d48d7988f76",
            "placeholder": "​",
            "style": "IPY_MODEL_e7fd534df8394b0085f607f51e8edfed",
            "value": "tokenizer.json: 100%"
          }
        },
        "1da1f54df73e471994ad8a3d65c1bd12": {
          "model_module": "@jupyter-widgets/controls",
          "model_name": "FloatProgressModel",
          "model_module_version": "1.5.0",
          "state": {
            "_dom_classes": [],
            "_model_module": "@jupyter-widgets/controls",
            "_model_module_version": "1.5.0",
            "_model_name": "FloatProgressModel",
            "_view_count": null,
            "_view_module": "@jupyter-widgets/controls",
            "_view_module_version": "1.5.0",
            "_view_name": "ProgressView",
            "bar_style": "success",
            "description": "",
            "description_tooltip": null,
            "layout": "IPY_MODEL_054437eaf8d448d9b4e532b8aaaccde5",
            "max": 1355256,
            "min": 0,
            "orientation": "horizontal",
            "style": "IPY_MODEL_40a2da30a2f241ed87d78d62e6c931ea",
            "value": 1355256
          }
        },
        "3f7df86d2c9f482e80154171f20c62f9": {
          "model_module": "@jupyter-widgets/controls",
          "model_name": "HTMLModel",
          "model_module_version": "1.5.0",
          "state": {
            "_dom_classes": [],
            "_model_module": "@jupyter-widgets/controls",
            "_model_module_version": "1.5.0",
            "_model_name": "HTMLModel",
            "_view_count": null,
            "_view_module": "@jupyter-widgets/controls",
            "_view_module_version": "1.5.0",
            "_view_name": "HTMLView",
            "description": "",
            "description_tooltip": null,
            "layout": "IPY_MODEL_58aeee88afea47a6803f07a3e9bb32aa",
            "placeholder": "​",
            "style": "IPY_MODEL_2d5356575eff4c12b84e247e28bf3980",
            "value": " 1.36M/1.36M [00:00&lt;00:00, 27.2MB/s]"
          }
        },
        "67e046b8f3be48a9b960c256999865b9": {
          "model_module": "@jupyter-widgets/base",
          "model_name": "LayoutModel",
          "model_module_version": "1.2.0",
          "state": {
            "_model_module": "@jupyter-widgets/base",
            "_model_module_version": "1.2.0",
            "_model_name": "LayoutModel",
            "_view_count": null,
            "_view_module": "@jupyter-widgets/base",
            "_view_module_version": "1.2.0",
            "_view_name": "LayoutView",
            "align_content": null,
            "align_items": null,
            "align_self": null,
            "border": null,
            "bottom": null,
            "display": null,
            "flex": null,
            "flex_flow": null,
            "grid_area": null,
            "grid_auto_columns": null,
            "grid_auto_flow": null,
            "grid_auto_rows": null,
            "grid_column": null,
            "grid_gap": null,
            "grid_row": null,
            "grid_template_areas": null,
            "grid_template_columns": null,
            "grid_template_rows": null,
            "height": null,
            "justify_content": null,
            "justify_items": null,
            "left": null,
            "margin": null,
            "max_height": null,
            "max_width": null,
            "min_height": null,
            "min_width": null,
            "object_fit": null,
            "object_position": null,
            "order": null,
            "overflow": null,
            "overflow_x": null,
            "overflow_y": null,
            "padding": null,
            "right": null,
            "top": null,
            "visibility": null,
            "width": null
          }
        },
        "6007eaa86f0e41cd9fa06d48d7988f76": {
          "model_module": "@jupyter-widgets/base",
          "model_name": "LayoutModel",
          "model_module_version": "1.2.0",
          "state": {
            "_model_module": "@jupyter-widgets/base",
            "_model_module_version": "1.2.0",
            "_model_name": "LayoutModel",
            "_view_count": null,
            "_view_module": "@jupyter-widgets/base",
            "_view_module_version": "1.2.0",
            "_view_name": "LayoutView",
            "align_content": null,
            "align_items": null,
            "align_self": null,
            "border": null,
            "bottom": null,
            "display": null,
            "flex": null,
            "flex_flow": null,
            "grid_area": null,
            "grid_auto_columns": null,
            "grid_auto_flow": null,
            "grid_auto_rows": null,
            "grid_column": null,
            "grid_gap": null,
            "grid_row": null,
            "grid_template_areas": null,
            "grid_template_columns": null,
            "grid_template_rows": null,
            "height": null,
            "justify_content": null,
            "justify_items": null,
            "left": null,
            "margin": null,
            "max_height": null,
            "max_width": null,
            "min_height": null,
            "min_width": null,
            "object_fit": null,
            "object_position": null,
            "order": null,
            "overflow": null,
            "overflow_x": null,
            "overflow_y": null,
            "padding": null,
            "right": null,
            "top": null,
            "visibility": null,
            "width": null
          }
        },
        "e7fd534df8394b0085f607f51e8edfed": {
          "model_module": "@jupyter-widgets/controls",
          "model_name": "DescriptionStyleModel",
          "model_module_version": "1.5.0",
          "state": {
            "_model_module": "@jupyter-widgets/controls",
            "_model_module_version": "1.5.0",
            "_model_name": "DescriptionStyleModel",
            "_view_count": null,
            "_view_module": "@jupyter-widgets/base",
            "_view_module_version": "1.2.0",
            "_view_name": "StyleView",
            "description_width": ""
          }
        },
        "054437eaf8d448d9b4e532b8aaaccde5": {
          "model_module": "@jupyter-widgets/base",
          "model_name": "LayoutModel",
          "model_module_version": "1.2.0",
          "state": {
            "_model_module": "@jupyter-widgets/base",
            "_model_module_version": "1.2.0",
            "_model_name": "LayoutModel",
            "_view_count": null,
            "_view_module": "@jupyter-widgets/base",
            "_view_module_version": "1.2.0",
            "_view_name": "LayoutView",
            "align_content": null,
            "align_items": null,
            "align_self": null,
            "border": null,
            "bottom": null,
            "display": null,
            "flex": null,
            "flex_flow": null,
            "grid_area": null,
            "grid_auto_columns": null,
            "grid_auto_flow": null,
            "grid_auto_rows": null,
            "grid_column": null,
            "grid_gap": null,
            "grid_row": null,
            "grid_template_areas": null,
            "grid_template_columns": null,
            "grid_template_rows": null,
            "height": null,
            "justify_content": null,
            "justify_items": null,
            "left": null,
            "margin": null,
            "max_height": null,
            "max_width": null,
            "min_height": null,
            "min_width": null,
            "object_fit": null,
            "object_position": null,
            "order": null,
            "overflow": null,
            "overflow_x": null,
            "overflow_y": null,
            "padding": null,
            "right": null,
            "top": null,
            "visibility": null,
            "width": null
          }
        },
        "40a2da30a2f241ed87d78d62e6c931ea": {
          "model_module": "@jupyter-widgets/controls",
          "model_name": "ProgressStyleModel",
          "model_module_version": "1.5.0",
          "state": {
            "_model_module": "@jupyter-widgets/controls",
            "_model_module_version": "1.5.0",
            "_model_name": "ProgressStyleModel",
            "_view_count": null,
            "_view_module": "@jupyter-widgets/base",
            "_view_module_version": "1.2.0",
            "_view_name": "StyleView",
            "bar_color": null,
            "description_width": ""
          }
        },
        "58aeee88afea47a6803f07a3e9bb32aa": {
          "model_module": "@jupyter-widgets/base",
          "model_name": "LayoutModel",
          "model_module_version": "1.2.0",
          "state": {
            "_model_module": "@jupyter-widgets/base",
            "_model_module_version": "1.2.0",
            "_model_name": "LayoutModel",
            "_view_count": null,
            "_view_module": "@jupyter-widgets/base",
            "_view_module_version": "1.2.0",
            "_view_name": "LayoutView",
            "align_content": null,
            "align_items": null,
            "align_self": null,
            "border": null,
            "bottom": null,
            "display": null,
            "flex": null,
            "flex_flow": null,
            "grid_area": null,
            "grid_auto_columns": null,
            "grid_auto_flow": null,
            "grid_auto_rows": null,
            "grid_column": null,
            "grid_gap": null,
            "grid_row": null,
            "grid_template_areas": null,
            "grid_template_columns": null,
            "grid_template_rows": null,
            "height": null,
            "justify_content": null,
            "justify_items": null,
            "left": null,
            "margin": null,
            "max_height": null,
            "max_width": null,
            "min_height": null,
            "min_width": null,
            "object_fit": null,
            "object_position": null,
            "order": null,
            "overflow": null,
            "overflow_x": null,
            "overflow_y": null,
            "padding": null,
            "right": null,
            "top": null,
            "visibility": null,
            "width": null
          }
        },
        "2d5356575eff4c12b84e247e28bf3980": {
          "model_module": "@jupyter-widgets/controls",
          "model_name": "DescriptionStyleModel",
          "model_module_version": "1.5.0",
          "state": {
            "_model_module": "@jupyter-widgets/controls",
            "_model_module_version": "1.5.0",
            "_model_name": "DescriptionStyleModel",
            "_view_count": null,
            "_view_module": "@jupyter-widgets/base",
            "_view_module_version": "1.2.0",
            "_view_name": "StyleView",
            "description_width": ""
          }
        },
        "b25ed29f68874ac7952fc2c8b51a474f": {
          "model_module": "@jupyter-widgets/controls",
          "model_name": "HBoxModel",
          "model_module_version": "1.5.0",
          "state": {
            "_dom_classes": [],
            "_model_module": "@jupyter-widgets/controls",
            "_model_module_version": "1.5.0",
            "_model_name": "HBoxModel",
            "_view_count": null,
            "_view_module": "@jupyter-widgets/controls",
            "_view_module_version": "1.5.0",
            "_view_name": "HBoxView",
            "box_style": "",
            "children": [
              "IPY_MODEL_4714191fa2454d3c8b2d001e4bcaa4de",
              "IPY_MODEL_202600ce5dea434083c2dc1acde24866",
              "IPY_MODEL_5f40356df3f942958aa7197dd8e16699"
            ],
            "layout": "IPY_MODEL_3bfd2e32f06a4d0eb553ac7f9f677ed1"
          }
        },
        "4714191fa2454d3c8b2d001e4bcaa4de": {
          "model_module": "@jupyter-widgets/controls",
          "model_name": "HTMLModel",
          "model_module_version": "1.5.0",
          "state": {
            "_dom_classes": [],
            "_model_module": "@jupyter-widgets/controls",
            "_model_module_version": "1.5.0",
            "_model_name": "HTMLModel",
            "_view_count": null,
            "_view_module": "@jupyter-widgets/controls",
            "_view_module_version": "1.5.0",
            "_view_name": "HTMLView",
            "description": "",
            "description_tooltip": null,
            "layout": "IPY_MODEL_3401c7454f274f179f447384973bb64d",
            "placeholder": "​",
            "style": "IPY_MODEL_086c2bda138749b4bc0f7d22525b0815",
            "value": "config.json: 100%"
          }
        },
        "202600ce5dea434083c2dc1acde24866": {
          "model_module": "@jupyter-widgets/controls",
          "model_name": "FloatProgressModel",
          "model_module_version": "1.5.0",
          "state": {
            "_dom_classes": [],
            "_model_module": "@jupyter-widgets/controls",
            "_model_module_version": "1.5.0",
            "_model_name": "FloatProgressModel",
            "_view_count": null,
            "_view_module": "@jupyter-widgets/controls",
            "_view_module_version": "1.5.0",
            "_view_name": "ProgressView",
            "bar_style": "success",
            "description": "",
            "description_tooltip": null,
            "layout": "IPY_MODEL_4e9919776c3047a3bb7daf36d2865d47",
            "max": 665,
            "min": 0,
            "orientation": "horizontal",
            "style": "IPY_MODEL_9521e6c1cea64d019b11717c6f865fe6",
            "value": 665
          }
        },
        "5f40356df3f942958aa7197dd8e16699": {
          "model_module": "@jupyter-widgets/controls",
          "model_name": "HTMLModel",
          "model_module_version": "1.5.0",
          "state": {
            "_dom_classes": [],
            "_model_module": "@jupyter-widgets/controls",
            "_model_module_version": "1.5.0",
            "_model_name": "HTMLModel",
            "_view_count": null,
            "_view_module": "@jupyter-widgets/controls",
            "_view_module_version": "1.5.0",
            "_view_name": "HTMLView",
            "description": "",
            "description_tooltip": null,
            "layout": "IPY_MODEL_5d2a45151afc4d5f913609b07056f6e8",
            "placeholder": "​",
            "style": "IPY_MODEL_e862270f434a4c74ab222e1a1cb77fdb",
            "value": " 665/665 [00:00&lt;00:00, 35.9kB/s]"
          }
        },
        "3bfd2e32f06a4d0eb553ac7f9f677ed1": {
          "model_module": "@jupyter-widgets/base",
          "model_name": "LayoutModel",
          "model_module_version": "1.2.0",
          "state": {
            "_model_module": "@jupyter-widgets/base",
            "_model_module_version": "1.2.0",
            "_model_name": "LayoutModel",
            "_view_count": null,
            "_view_module": "@jupyter-widgets/base",
            "_view_module_version": "1.2.0",
            "_view_name": "LayoutView",
            "align_content": null,
            "align_items": null,
            "align_self": null,
            "border": null,
            "bottom": null,
            "display": null,
            "flex": null,
            "flex_flow": null,
            "grid_area": null,
            "grid_auto_columns": null,
            "grid_auto_flow": null,
            "grid_auto_rows": null,
            "grid_column": null,
            "grid_gap": null,
            "grid_row": null,
            "grid_template_areas": null,
            "grid_template_columns": null,
            "grid_template_rows": null,
            "height": null,
            "justify_content": null,
            "justify_items": null,
            "left": null,
            "margin": null,
            "max_height": null,
            "max_width": null,
            "min_height": null,
            "min_width": null,
            "object_fit": null,
            "object_position": null,
            "order": null,
            "overflow": null,
            "overflow_x": null,
            "overflow_y": null,
            "padding": null,
            "right": null,
            "top": null,
            "visibility": null,
            "width": null
          }
        },
        "3401c7454f274f179f447384973bb64d": {
          "model_module": "@jupyter-widgets/base",
          "model_name": "LayoutModel",
          "model_module_version": "1.2.0",
          "state": {
            "_model_module": "@jupyter-widgets/base",
            "_model_module_version": "1.2.0",
            "_model_name": "LayoutModel",
            "_view_count": null,
            "_view_module": "@jupyter-widgets/base",
            "_view_module_version": "1.2.0",
            "_view_name": "LayoutView",
            "align_content": null,
            "align_items": null,
            "align_self": null,
            "border": null,
            "bottom": null,
            "display": null,
            "flex": null,
            "flex_flow": null,
            "grid_area": null,
            "grid_auto_columns": null,
            "grid_auto_flow": null,
            "grid_auto_rows": null,
            "grid_column": null,
            "grid_gap": null,
            "grid_row": null,
            "grid_template_areas": null,
            "grid_template_columns": null,
            "grid_template_rows": null,
            "height": null,
            "justify_content": null,
            "justify_items": null,
            "left": null,
            "margin": null,
            "max_height": null,
            "max_width": null,
            "min_height": null,
            "min_width": null,
            "object_fit": null,
            "object_position": null,
            "order": null,
            "overflow": null,
            "overflow_x": null,
            "overflow_y": null,
            "padding": null,
            "right": null,
            "top": null,
            "visibility": null,
            "width": null
          }
        },
        "086c2bda138749b4bc0f7d22525b0815": {
          "model_module": "@jupyter-widgets/controls",
          "model_name": "DescriptionStyleModel",
          "model_module_version": "1.5.0",
          "state": {
            "_model_module": "@jupyter-widgets/controls",
            "_model_module_version": "1.5.0",
            "_model_name": "DescriptionStyleModel",
            "_view_count": null,
            "_view_module": "@jupyter-widgets/base",
            "_view_module_version": "1.2.0",
            "_view_name": "StyleView",
            "description_width": ""
          }
        },
        "4e9919776c3047a3bb7daf36d2865d47": {
          "model_module": "@jupyter-widgets/base",
          "model_name": "LayoutModel",
          "model_module_version": "1.2.0",
          "state": {
            "_model_module": "@jupyter-widgets/base",
            "_model_module_version": "1.2.0",
            "_model_name": "LayoutModel",
            "_view_count": null,
            "_view_module": "@jupyter-widgets/base",
            "_view_module_version": "1.2.0",
            "_view_name": "LayoutView",
            "align_content": null,
            "align_items": null,
            "align_self": null,
            "border": null,
            "bottom": null,
            "display": null,
            "flex": null,
            "flex_flow": null,
            "grid_area": null,
            "grid_auto_columns": null,
            "grid_auto_flow": null,
            "grid_auto_rows": null,
            "grid_column": null,
            "grid_gap": null,
            "grid_row": null,
            "grid_template_areas": null,
            "grid_template_columns": null,
            "grid_template_rows": null,
            "height": null,
            "justify_content": null,
            "justify_items": null,
            "left": null,
            "margin": null,
            "max_height": null,
            "max_width": null,
            "min_height": null,
            "min_width": null,
            "object_fit": null,
            "object_position": null,
            "order": null,
            "overflow": null,
            "overflow_x": null,
            "overflow_y": null,
            "padding": null,
            "right": null,
            "top": null,
            "visibility": null,
            "width": null
          }
        },
        "9521e6c1cea64d019b11717c6f865fe6": {
          "model_module": "@jupyter-widgets/controls",
          "model_name": "ProgressStyleModel",
          "model_module_version": "1.5.0",
          "state": {
            "_model_module": "@jupyter-widgets/controls",
            "_model_module_version": "1.5.0",
            "_model_name": "ProgressStyleModel",
            "_view_count": null,
            "_view_module": "@jupyter-widgets/base",
            "_view_module_version": "1.2.0",
            "_view_name": "StyleView",
            "bar_color": null,
            "description_width": ""
          }
        },
        "5d2a45151afc4d5f913609b07056f6e8": {
          "model_module": "@jupyter-widgets/base",
          "model_name": "LayoutModel",
          "model_module_version": "1.2.0",
          "state": {
            "_model_module": "@jupyter-widgets/base",
            "_model_module_version": "1.2.0",
            "_model_name": "LayoutModel",
            "_view_count": null,
            "_view_module": "@jupyter-widgets/base",
            "_view_module_version": "1.2.0",
            "_view_name": "LayoutView",
            "align_content": null,
            "align_items": null,
            "align_self": null,
            "border": null,
            "bottom": null,
            "display": null,
            "flex": null,
            "flex_flow": null,
            "grid_area": null,
            "grid_auto_columns": null,
            "grid_auto_flow": null,
            "grid_auto_rows": null,
            "grid_column": null,
            "grid_gap": null,
            "grid_row": null,
            "grid_template_areas": null,
            "grid_template_columns": null,
            "grid_template_rows": null,
            "height": null,
            "justify_content": null,
            "justify_items": null,
            "left": null,
            "margin": null,
            "max_height": null,
            "max_width": null,
            "min_height": null,
            "min_width": null,
            "object_fit": null,
            "object_position": null,
            "order": null,
            "overflow": null,
            "overflow_x": null,
            "overflow_y": null,
            "padding": null,
            "right": null,
            "top": null,
            "visibility": null,
            "width": null
          }
        },
        "e862270f434a4c74ab222e1a1cb77fdb": {
          "model_module": "@jupyter-widgets/controls",
          "model_name": "DescriptionStyleModel",
          "model_module_version": "1.5.0",
          "state": {
            "_model_module": "@jupyter-widgets/controls",
            "_model_module_version": "1.5.0",
            "_model_name": "DescriptionStyleModel",
            "_view_count": null,
            "_view_module": "@jupyter-widgets/base",
            "_view_module_version": "1.2.0",
            "_view_name": "StyleView",
            "description_width": ""
          }
        },
        "833b7495b7d64a30a772bd79f3ad18d5": {
          "model_module": "@jupyter-widgets/controls",
          "model_name": "HBoxModel",
          "model_module_version": "1.5.0",
          "state": {
            "_dom_classes": [],
            "_model_module": "@jupyter-widgets/controls",
            "_model_module_version": "1.5.0",
            "_model_name": "HBoxModel",
            "_view_count": null,
            "_view_module": "@jupyter-widgets/controls",
            "_view_module_version": "1.5.0",
            "_view_name": "HBoxView",
            "box_style": "",
            "children": [
              "IPY_MODEL_a8e6d7f8db5545dcad529a37fece7829",
              "IPY_MODEL_111850fb98f24a43943cc2059bee9c5c",
              "IPY_MODEL_47deb72b5c71454084562d5f0ef15c1e"
            ],
            "layout": "IPY_MODEL_3e945497cb654a0b9b10ee081fe98d66"
          }
        },
        "a8e6d7f8db5545dcad529a37fece7829": {
          "model_module": "@jupyter-widgets/controls",
          "model_name": "HTMLModel",
          "model_module_version": "1.5.0",
          "state": {
            "_dom_classes": [],
            "_model_module": "@jupyter-widgets/controls",
            "_model_module_version": "1.5.0",
            "_model_name": "HTMLModel",
            "_view_count": null,
            "_view_module": "@jupyter-widgets/controls",
            "_view_module_version": "1.5.0",
            "_view_name": "HTMLView",
            "description": "",
            "description_tooltip": null,
            "layout": "IPY_MODEL_2a3f6cf8309148c1a993ec0f9480173a",
            "placeholder": "​",
            "style": "IPY_MODEL_f505eee1500646ac8acb28b2a09ee8f9",
            "value": "model.safetensors: 100%"
          }
        },
        "111850fb98f24a43943cc2059bee9c5c": {
          "model_module": "@jupyter-widgets/controls",
          "model_name": "FloatProgressModel",
          "model_module_version": "1.5.0",
          "state": {
            "_dom_classes": [],
            "_model_module": "@jupyter-widgets/controls",
            "_model_module_version": "1.5.0",
            "_model_name": "FloatProgressModel",
            "_view_count": null,
            "_view_module": "@jupyter-widgets/controls",
            "_view_module_version": "1.5.0",
            "_view_name": "ProgressView",
            "bar_style": "success",
            "description": "",
            "description_tooltip": null,
            "layout": "IPY_MODEL_d403006f41f140fbaa262b85cecd387f",
            "max": 548105171,
            "min": 0,
            "orientation": "horizontal",
            "style": "IPY_MODEL_d6188a207e5347bc8e39c623a72408e2",
            "value": 548105171
          }
        },
        "47deb72b5c71454084562d5f0ef15c1e": {
          "model_module": "@jupyter-widgets/controls",
          "model_name": "HTMLModel",
          "model_module_version": "1.5.0",
          "state": {
            "_dom_classes": [],
            "_model_module": "@jupyter-widgets/controls",
            "_model_module_version": "1.5.0",
            "_model_name": "HTMLModel",
            "_view_count": null,
            "_view_module": "@jupyter-widgets/controls",
            "_view_module_version": "1.5.0",
            "_view_name": "HTMLView",
            "description": "",
            "description_tooltip": null,
            "layout": "IPY_MODEL_1fa68d620ecc4924a17ff98e43105ab4",
            "placeholder": "​",
            "style": "IPY_MODEL_1dcf6bae80984e5fa8756f695a4de4d0",
            "value": " 548M/548M [00:02&lt;00:00, 181MB/s]"
          }
        },
        "3e945497cb654a0b9b10ee081fe98d66": {
          "model_module": "@jupyter-widgets/base",
          "model_name": "LayoutModel",
          "model_module_version": "1.2.0",
          "state": {
            "_model_module": "@jupyter-widgets/base",
            "_model_module_version": "1.2.0",
            "_model_name": "LayoutModel",
            "_view_count": null,
            "_view_module": "@jupyter-widgets/base",
            "_view_module_version": "1.2.0",
            "_view_name": "LayoutView",
            "align_content": null,
            "align_items": null,
            "align_self": null,
            "border": null,
            "bottom": null,
            "display": null,
            "flex": null,
            "flex_flow": null,
            "grid_area": null,
            "grid_auto_columns": null,
            "grid_auto_flow": null,
            "grid_auto_rows": null,
            "grid_column": null,
            "grid_gap": null,
            "grid_row": null,
            "grid_template_areas": null,
            "grid_template_columns": null,
            "grid_template_rows": null,
            "height": null,
            "justify_content": null,
            "justify_items": null,
            "left": null,
            "margin": null,
            "max_height": null,
            "max_width": null,
            "min_height": null,
            "min_width": null,
            "object_fit": null,
            "object_position": null,
            "order": null,
            "overflow": null,
            "overflow_x": null,
            "overflow_y": null,
            "padding": null,
            "right": null,
            "top": null,
            "visibility": null,
            "width": null
          }
        },
        "2a3f6cf8309148c1a993ec0f9480173a": {
          "model_module": "@jupyter-widgets/base",
          "model_name": "LayoutModel",
          "model_module_version": "1.2.0",
          "state": {
            "_model_module": "@jupyter-widgets/base",
            "_model_module_version": "1.2.0",
            "_model_name": "LayoutModel",
            "_view_count": null,
            "_view_module": "@jupyter-widgets/base",
            "_view_module_version": "1.2.0",
            "_view_name": "LayoutView",
            "align_content": null,
            "align_items": null,
            "align_self": null,
            "border": null,
            "bottom": null,
            "display": null,
            "flex": null,
            "flex_flow": null,
            "grid_area": null,
            "grid_auto_columns": null,
            "grid_auto_flow": null,
            "grid_auto_rows": null,
            "grid_column": null,
            "grid_gap": null,
            "grid_row": null,
            "grid_template_areas": null,
            "grid_template_columns": null,
            "grid_template_rows": null,
            "height": null,
            "justify_content": null,
            "justify_items": null,
            "left": null,
            "margin": null,
            "max_height": null,
            "max_width": null,
            "min_height": null,
            "min_width": null,
            "object_fit": null,
            "object_position": null,
            "order": null,
            "overflow": null,
            "overflow_x": null,
            "overflow_y": null,
            "padding": null,
            "right": null,
            "top": null,
            "visibility": null,
            "width": null
          }
        },
        "f505eee1500646ac8acb28b2a09ee8f9": {
          "model_module": "@jupyter-widgets/controls",
          "model_name": "DescriptionStyleModel",
          "model_module_version": "1.5.0",
          "state": {
            "_model_module": "@jupyter-widgets/controls",
            "_model_module_version": "1.5.0",
            "_model_name": "DescriptionStyleModel",
            "_view_count": null,
            "_view_module": "@jupyter-widgets/base",
            "_view_module_version": "1.2.0",
            "_view_name": "StyleView",
            "description_width": ""
          }
        },
        "d403006f41f140fbaa262b85cecd387f": {
          "model_module": "@jupyter-widgets/base",
          "model_name": "LayoutModel",
          "model_module_version": "1.2.0",
          "state": {
            "_model_module": "@jupyter-widgets/base",
            "_model_module_version": "1.2.0",
            "_model_name": "LayoutModel",
            "_view_count": null,
            "_view_module": "@jupyter-widgets/base",
            "_view_module_version": "1.2.0",
            "_view_name": "LayoutView",
            "align_content": null,
            "align_items": null,
            "align_self": null,
            "border": null,
            "bottom": null,
            "display": null,
            "flex": null,
            "flex_flow": null,
            "grid_area": null,
            "grid_auto_columns": null,
            "grid_auto_flow": null,
            "grid_auto_rows": null,
            "grid_column": null,
            "grid_gap": null,
            "grid_row": null,
            "grid_template_areas": null,
            "grid_template_columns": null,
            "grid_template_rows": null,
            "height": null,
            "justify_content": null,
            "justify_items": null,
            "left": null,
            "margin": null,
            "max_height": null,
            "max_width": null,
            "min_height": null,
            "min_width": null,
            "object_fit": null,
            "object_position": null,
            "order": null,
            "overflow": null,
            "overflow_x": null,
            "overflow_y": null,
            "padding": null,
            "right": null,
            "top": null,
            "visibility": null,
            "width": null
          }
        },
        "d6188a207e5347bc8e39c623a72408e2": {
          "model_module": "@jupyter-widgets/controls",
          "model_name": "ProgressStyleModel",
          "model_module_version": "1.5.0",
          "state": {
            "_model_module": "@jupyter-widgets/controls",
            "_model_module_version": "1.5.0",
            "_model_name": "ProgressStyleModel",
            "_view_count": null,
            "_view_module": "@jupyter-widgets/base",
            "_view_module_version": "1.2.0",
            "_view_name": "StyleView",
            "bar_color": null,
            "description_width": ""
          }
        },
        "1fa68d620ecc4924a17ff98e43105ab4": {
          "model_module": "@jupyter-widgets/base",
          "model_name": "LayoutModel",
          "model_module_version": "1.2.0",
          "state": {
            "_model_module": "@jupyter-widgets/base",
            "_model_module_version": "1.2.0",
            "_model_name": "LayoutModel",
            "_view_count": null,
            "_view_module": "@jupyter-widgets/base",
            "_view_module_version": "1.2.0",
            "_view_name": "LayoutView",
            "align_content": null,
            "align_items": null,
            "align_self": null,
            "border": null,
            "bottom": null,
            "display": null,
            "flex": null,
            "flex_flow": null,
            "grid_area": null,
            "grid_auto_columns": null,
            "grid_auto_flow": null,
            "grid_auto_rows": null,
            "grid_column": null,
            "grid_gap": null,
            "grid_row": null,
            "grid_template_areas": null,
            "grid_template_columns": null,
            "grid_template_rows": null,
            "height": null,
            "justify_content": null,
            "justify_items": null,
            "left": null,
            "margin": null,
            "max_height": null,
            "max_width": null,
            "min_height": null,
            "min_width": null,
            "object_fit": null,
            "object_position": null,
            "order": null,
            "overflow": null,
            "overflow_x": null,
            "overflow_y": null,
            "padding": null,
            "right": null,
            "top": null,
            "visibility": null,
            "width": null
          }
        },
        "1dcf6bae80984e5fa8756f695a4de4d0": {
          "model_module": "@jupyter-widgets/controls",
          "model_name": "DescriptionStyleModel",
          "model_module_version": "1.5.0",
          "state": {
            "_model_module": "@jupyter-widgets/controls",
            "_model_module_version": "1.5.0",
            "_model_name": "DescriptionStyleModel",
            "_view_count": null,
            "_view_module": "@jupyter-widgets/base",
            "_view_module_version": "1.2.0",
            "_view_name": "StyleView",
            "description_width": ""
          }
        }
      }
    }
  },
  "cells": [
    {
      "cell_type": "markdown",
      "metadata": {
        "id": "view-in-github",
        "colab_type": "text"
      },
      "source": [
        "<a href=\"https://colab.research.google.com/github/GENSHEHU/fine_tuning_nysc_byelaw/blob/main/Fine_Tuning.ipynb\" target=\"_parent\"><img src=\"https://colab.research.google.com/assets/colab-badge.svg\" alt=\"Open In Colab\"/></a>"
      ]
    },
    {
      "cell_type": "code",
      "execution_count": 1,
      "metadata": {
        "id": "_HMgzct9RxRB",
        "colab": {
          "base_uri": "https://localhost:8080/"
        },
        "outputId": "16c99b72-b408-4035-a29a-a3644eec7570"
      },
      "outputs": [
        {
          "output_type": "stream",
          "name": "stdout",
          "text": [
            "Requirement already satisfied: tensorflow in /usr/local/lib/python3.11/dist-packages (2.18.0)\n",
            "Requirement already satisfied: absl-py>=1.0.0 in /usr/local/lib/python3.11/dist-packages (from tensorflow) (1.4.0)\n",
            "Requirement already satisfied: astunparse>=1.6.0 in /usr/local/lib/python3.11/dist-packages (from tensorflow) (1.6.3)\n",
            "Requirement already satisfied: flatbuffers>=24.3.25 in /usr/local/lib/python3.11/dist-packages (from tensorflow) (25.2.10)\n",
            "Requirement already satisfied: gast!=0.5.0,!=0.5.1,!=0.5.2,>=0.2.1 in /usr/local/lib/python3.11/dist-packages (from tensorflow) (0.6.0)\n",
            "Requirement already satisfied: google-pasta>=0.1.1 in /usr/local/lib/python3.11/dist-packages (from tensorflow) (0.2.0)\n",
            "Requirement already satisfied: libclang>=13.0.0 in /usr/local/lib/python3.11/dist-packages (from tensorflow) (18.1.1)\n",
            "Requirement already satisfied: opt-einsum>=2.3.2 in /usr/local/lib/python3.11/dist-packages (from tensorflow) (3.4.0)\n",
            "Requirement already satisfied: packaging in /usr/local/lib/python3.11/dist-packages (from tensorflow) (24.2)\n",
            "Requirement already satisfied: protobuf!=4.21.0,!=4.21.1,!=4.21.2,!=4.21.3,!=4.21.4,!=4.21.5,<6.0.0dev,>=3.20.3 in /usr/local/lib/python3.11/dist-packages (from tensorflow) (4.25.6)\n",
            "Requirement already satisfied: requests<3,>=2.21.0 in /usr/local/lib/python3.11/dist-packages (from tensorflow) (2.32.3)\n",
            "Requirement already satisfied: setuptools in /usr/local/lib/python3.11/dist-packages (from tensorflow) (75.1.0)\n",
            "Requirement already satisfied: six>=1.12.0 in /usr/local/lib/python3.11/dist-packages (from tensorflow) (1.17.0)\n",
            "Requirement already satisfied: termcolor>=1.1.0 in /usr/local/lib/python3.11/dist-packages (from tensorflow) (2.5.0)\n",
            "Requirement already satisfied: typing-extensions>=3.6.6 in /usr/local/lib/python3.11/dist-packages (from tensorflow) (4.12.2)\n",
            "Requirement already satisfied: wrapt>=1.11.0 in /usr/local/lib/python3.11/dist-packages (from tensorflow) (1.17.2)\n",
            "Requirement already satisfied: grpcio<2.0,>=1.24.3 in /usr/local/lib/python3.11/dist-packages (from tensorflow) (1.71.0)\n",
            "Requirement already satisfied: tensorboard<2.19,>=2.18 in /usr/local/lib/python3.11/dist-packages (from tensorflow) (2.18.0)\n",
            "Requirement already satisfied: keras>=3.5.0 in /usr/local/lib/python3.11/dist-packages (from tensorflow) (3.8.0)\n",
            "Requirement already satisfied: numpy<2.1.0,>=1.26.0 in /usr/local/lib/python3.11/dist-packages (from tensorflow) (2.0.2)\n",
            "Requirement already satisfied: h5py>=3.11.0 in /usr/local/lib/python3.11/dist-packages (from tensorflow) (3.12.1)\n",
            "Requirement already satisfied: ml-dtypes<0.5.0,>=0.4.0 in /usr/local/lib/python3.11/dist-packages (from tensorflow) (0.4.1)\n",
            "Requirement already satisfied: tensorflow-io-gcs-filesystem>=0.23.1 in /usr/local/lib/python3.11/dist-packages (from tensorflow) (0.37.1)\n",
            "Requirement already satisfied: wheel<1.0,>=0.23.0 in /usr/local/lib/python3.11/dist-packages (from astunparse>=1.6.0->tensorflow) (0.45.1)\n",
            "Requirement already satisfied: rich in /usr/local/lib/python3.11/dist-packages (from keras>=3.5.0->tensorflow) (13.9.4)\n",
            "Requirement already satisfied: namex in /usr/local/lib/python3.11/dist-packages (from keras>=3.5.0->tensorflow) (0.0.8)\n",
            "Requirement already satisfied: optree in /usr/local/lib/python3.11/dist-packages (from keras>=3.5.0->tensorflow) (0.14.1)\n",
            "Requirement already satisfied: charset-normalizer<4,>=2 in /usr/local/lib/python3.11/dist-packages (from requests<3,>=2.21.0->tensorflow) (3.4.1)\n",
            "Requirement already satisfied: idna<4,>=2.5 in /usr/local/lib/python3.11/dist-packages (from requests<3,>=2.21.0->tensorflow) (3.10)\n",
            "Requirement already satisfied: urllib3<3,>=1.21.1 in /usr/local/lib/python3.11/dist-packages (from requests<3,>=2.21.0->tensorflow) (2.3.0)\n",
            "Requirement already satisfied: certifi>=2017.4.17 in /usr/local/lib/python3.11/dist-packages (from requests<3,>=2.21.0->tensorflow) (2025.1.31)\n",
            "Requirement already satisfied: markdown>=2.6.8 in /usr/local/lib/python3.11/dist-packages (from tensorboard<2.19,>=2.18->tensorflow) (3.7)\n",
            "Requirement already satisfied: tensorboard-data-server<0.8.0,>=0.7.0 in /usr/local/lib/python3.11/dist-packages (from tensorboard<2.19,>=2.18->tensorflow) (0.7.2)\n",
            "Requirement already satisfied: werkzeug>=1.0.1 in /usr/local/lib/python3.11/dist-packages (from tensorboard<2.19,>=2.18->tensorflow) (3.1.3)\n",
            "Requirement already satisfied: MarkupSafe>=2.1.1 in /usr/local/lib/python3.11/dist-packages (from werkzeug>=1.0.1->tensorboard<2.19,>=2.18->tensorflow) (3.0.2)\n",
            "Requirement already satisfied: markdown-it-py>=2.2.0 in /usr/local/lib/python3.11/dist-packages (from rich->keras>=3.5.0->tensorflow) (3.0.0)\n",
            "Requirement already satisfied: pygments<3.0.0,>=2.13.0 in /usr/local/lib/python3.11/dist-packages (from rich->keras>=3.5.0->tensorflow) (2.18.0)\n",
            "Requirement already satisfied: mdurl~=0.1 in /usr/local/lib/python3.11/dist-packages (from markdown-it-py>=2.2.0->rich->keras>=3.5.0->tensorflow) (0.1.2)\n",
            "Requirement already satisfied: transformers in /usr/local/lib/python3.11/dist-packages (4.48.3)\n",
            "Requirement already satisfied: filelock in /usr/local/lib/python3.11/dist-packages (from transformers) (3.17.0)\n",
            "Requirement already satisfied: huggingface-hub<1.0,>=0.24.0 in /usr/local/lib/python3.11/dist-packages (from transformers) (0.28.1)\n",
            "Requirement already satisfied: numpy>=1.17 in /usr/local/lib/python3.11/dist-packages (from transformers) (2.0.2)\n",
            "Requirement already satisfied: packaging>=20.0 in /usr/local/lib/python3.11/dist-packages (from transformers) (24.2)\n",
            "Requirement already satisfied: pyyaml>=5.1 in /usr/local/lib/python3.11/dist-packages (from transformers) (6.0.2)\n",
            "Requirement already satisfied: regex!=2019.12.17 in /usr/local/lib/python3.11/dist-packages (from transformers) (2024.11.6)\n",
            "Requirement already satisfied: requests in /usr/local/lib/python3.11/dist-packages (from transformers) (2.32.3)\n",
            "Requirement already satisfied: tokenizers<0.22,>=0.21 in /usr/local/lib/python3.11/dist-packages (from transformers) (0.21.1)\n",
            "Requirement already satisfied: safetensors>=0.4.1 in /usr/local/lib/python3.11/dist-packages (from transformers) (0.5.3)\n",
            "Requirement already satisfied: tqdm>=4.27 in /usr/local/lib/python3.11/dist-packages (from transformers) (4.67.1)\n",
            "Requirement already satisfied: fsspec>=2023.5.0 in /usr/local/lib/python3.11/dist-packages (from huggingface-hub<1.0,>=0.24.0->transformers) (2024.10.0)\n",
            "Requirement already satisfied: typing-extensions>=3.7.4.3 in /usr/local/lib/python3.11/dist-packages (from huggingface-hub<1.0,>=0.24.0->transformers) (4.12.2)\n",
            "Requirement already satisfied: charset-normalizer<4,>=2 in /usr/local/lib/python3.11/dist-packages (from requests->transformers) (3.4.1)\n",
            "Requirement already satisfied: idna<4,>=2.5 in /usr/local/lib/python3.11/dist-packages (from requests->transformers) (3.10)\n",
            "Requirement already satisfied: urllib3<3,>=1.21.1 in /usr/local/lib/python3.11/dist-packages (from requests->transformers) (2.3.0)\n",
            "Requirement already satisfied: certifi>=2017.4.17 in /usr/local/lib/python3.11/dist-packages (from requests->transformers) (2025.1.31)\n",
            "Collecting PyPDF2\n",
            "  Downloading pypdf2-3.0.1-py3-none-any.whl.metadata (6.8 kB)\n",
            "Downloading pypdf2-3.0.1-py3-none-any.whl (232 kB)\n",
            "\u001b[2K   \u001b[90m━━━━━━━━━━━━━━━━━━━━━━━━━━━━━━━━━━━━━━━━\u001b[0m \u001b[32m232.6/232.6 kB\u001b[0m \u001b[31m10.7 MB/s\u001b[0m eta \u001b[36m0:00:00\u001b[0m\n",
            "\u001b[?25hInstalling collected packages: PyPDF2\n",
            "Successfully installed PyPDF2-3.0.1\n",
            "Requirement already satisfied: transformers in /usr/local/lib/python3.11/dist-packages (4.48.3)\n",
            "Collecting transformers\n",
            "  Downloading transformers-4.49.0-py3-none-any.whl.metadata (44 kB)\n",
            "\u001b[2K     \u001b[90m━━━━━━━━━━━━━━━━━━━━━━━━━━━━━━━━━━━━━━━━\u001b[0m \u001b[32m44.0/44.0 kB\u001b[0m \u001b[31m2.0 MB/s\u001b[0m eta \u001b[36m0:00:00\u001b[0m\n",
            "\u001b[?25hRequirement already satisfied: filelock in /usr/local/lib/python3.11/dist-packages (from transformers) (3.17.0)\n",
            "Requirement already satisfied: huggingface-hub<1.0,>=0.26.0 in /usr/local/lib/python3.11/dist-packages (from transformers) (0.28.1)\n",
            "Requirement already satisfied: numpy>=1.17 in /usr/local/lib/python3.11/dist-packages (from transformers) (2.0.2)\n",
            "Requirement already satisfied: packaging>=20.0 in /usr/local/lib/python3.11/dist-packages (from transformers) (24.2)\n",
            "Requirement already satisfied: pyyaml>=5.1 in /usr/local/lib/python3.11/dist-packages (from transformers) (6.0.2)\n",
            "Requirement already satisfied: regex!=2019.12.17 in /usr/local/lib/python3.11/dist-packages (from transformers) (2024.11.6)\n",
            "Requirement already satisfied: requests in /usr/local/lib/python3.11/dist-packages (from transformers) (2.32.3)\n",
            "Requirement already satisfied: tokenizers<0.22,>=0.21 in /usr/local/lib/python3.11/dist-packages (from transformers) (0.21.1)\n",
            "Requirement already satisfied: safetensors>=0.4.1 in /usr/local/lib/python3.11/dist-packages (from transformers) (0.5.3)\n",
            "Requirement already satisfied: tqdm>=4.27 in /usr/local/lib/python3.11/dist-packages (from transformers) (4.67.1)\n",
            "Requirement already satisfied: fsspec>=2023.5.0 in /usr/local/lib/python3.11/dist-packages (from huggingface-hub<1.0,>=0.26.0->transformers) (2024.10.0)\n",
            "Requirement already satisfied: typing-extensions>=3.7.4.3 in /usr/local/lib/python3.11/dist-packages (from huggingface-hub<1.0,>=0.26.0->transformers) (4.12.2)\n",
            "Requirement already satisfied: charset-normalizer<4,>=2 in /usr/local/lib/python3.11/dist-packages (from requests->transformers) (3.4.1)\n",
            "Requirement already satisfied: idna<4,>=2.5 in /usr/local/lib/python3.11/dist-packages (from requests->transformers) (3.10)\n",
            "Requirement already satisfied: urllib3<3,>=1.21.1 in /usr/local/lib/python3.11/dist-packages (from requests->transformers) (2.3.0)\n",
            "Requirement already satisfied: certifi>=2017.4.17 in /usr/local/lib/python3.11/dist-packages (from requests->transformers) (2025.1.31)\n",
            "Downloading transformers-4.49.0-py3-none-any.whl (10.0 MB)\n",
            "\u001b[2K   \u001b[90m━━━━━━━━━━━━━━━━━━━━━━━━━━━━━━━━━━━━━━━━\u001b[0m \u001b[32m10.0/10.0 MB\u001b[0m \u001b[31m87.9 MB/s\u001b[0m eta \u001b[36m0:00:00\u001b[0m\n",
            "\u001b[?25hInstalling collected packages: transformers\n",
            "  Attempting uninstall: transformers\n",
            "    Found existing installation: transformers 4.48.3\n",
            "    Uninstalling transformers-4.48.3:\n",
            "      Successfully uninstalled transformers-4.48.3\n",
            "Successfully installed transformers-4.49.0\n"
          ]
        }
      ],
      "source": [
        "#installing required libraries\n",
        "!pip install tensorflow\n",
        "!pip install transformers\n",
        "!pip install PyPDF2\n",
        "!pip install --upgrade transformers"
      ]
    },
    {
      "cell_type": "code",
      "source": [
        "#importing required modules\n",
        "from google.colab import drive\n",
        "import os\n",
        "import PyPDF2\n",
        "import re\n",
        "import json\n",
        "from transformers import TFGPT2LMHeadModel, GPT2Tokenizer\n",
        "import tensorflow as tf\n",
        "from transformers import Trainer, TrainingArguments\n",
        "from transformers import pipeline"
      ],
      "metadata": {
        "id": "hy_EeMtYCr9L"
      },
      "execution_count": 2,
      "outputs": []
    },
    {
      "cell_type": "code",
      "source": [
        "# Verifying and running code on GPU\n",
        "print(tf.config.list_physical_devices('GPU'))\n",
        "with tf.device('GPU:0'):\n",
        "    tensor = tf.constant([[1.0, 2.0], [3.0, 4.0]])\n",
        "    print(tensor)"
      ],
      "metadata": {
        "id": "RSD4edx-Cr56",
        "colab": {
          "base_uri": "https://localhost:8080/"
        },
        "outputId": "9b09de02-f723-4116-e8a2-273cd622a638"
      },
      "execution_count": 3,
      "outputs": [
        {
          "output_type": "stream",
          "name": "stdout",
          "text": [
            "[]\n",
            "tf.Tensor(\n",
            "[[1. 2.]\n",
            " [3. 4.]], shape=(2, 2), dtype=float32)\n"
          ]
        }
      ]
    },
    {
      "cell_type": "code",
      "source": [
        "# Mounting Google Drive\n",
        "drive.mount('/content/drive')"
      ],
      "metadata": {
        "id": "clWFtasYCr2y",
        "colab": {
          "base_uri": "https://localhost:8080/"
        },
        "outputId": "1bde0ff9-a4e3-407a-d459-92d6a0a128c6"
      },
      "execution_count": 5,
      "outputs": [
        {
          "output_type": "stream",
          "name": "stdout",
          "text": [
            "Mounted at /content/drive\n"
          ]
        }
      ]
    },
    {
      "cell_type": "code",
      "source": [
        "# Defining PDF path\n",
        "pdf_path = '/content/nysc_bye_law.pdf'\n",
        "json_path = '/content/nysc_bye_law.json'\n",
        "model_save_path = '/content/drive/MyDrive/gpt2_finetuned'\n",
        "\n",
        "#create the model save directory if it dosen't exist\n",
        "os.makedirs(model_save_path, exist_ok=True)"
      ],
      "metadata": {
        "id": "jx0_PlPbCrzX"
      },
      "execution_count": 6,
      "outputs": []
    },
    {
      "cell_type": "code",
      "source": [
        "# Function to extract text from the PDF\n",
        "def extract_text_from_pdf(pdf_path):\n",
        "    with open(pdf_path, 'rb') as file:\n",
        "      reader = PyPDF2.PdfReader(file)\n",
        "      text = ''\n",
        "      for page in reader.pages:\n",
        "          text += page.extract_text() + '\\n'\n",
        "    return text"
      ],
      "metadata": {
        "id": "ohlFNJqtCrwM"
      },
      "execution_count": 7,
      "outputs": []
    },
    {
      "cell_type": "code",
      "source": [
        "# Load GPT-2 model and tokenizer\n",
        "model_name = 'gpt2'\n",
        "tokenizer = GPT2Tokenizer.from_pretrained(model_name)\n",
        "#Set the padding token\n",
        "tokenizer.pad_token = tokenizer.eos_token\n",
        "model = TFGPT2LMHeadModel.from_pretrained(model_name)"
      ],
      "metadata": {
        "colab": {
          "base_uri": "https://localhost:8080/",
          "height": 403,
          "referenced_widgets": [
            "4f68bd2e5bcb4c8d8cf8a04863114e7c",
            "f19681e3a97e437286985510befb9f79",
            "3ff579e292b24a7f9a730968b6339d8d",
            "fc46c1a832be497ab64c1e0b2e0cb93e",
            "d27631d0a114452aa64d5ae49886a9d0",
            "ee34f1cfebae4c4790401bdc30ee0258",
            "592788657f18403fab322eb04662dd4c",
            "423b5b3f32f3434d90bb990359cf9c13",
            "07e26c9261414fc7b6cc197445574165",
            "a10b95a02634498fa7414dad390f25cd",
            "fa7ca24ce35d4c209c1856d36b8947be",
            "7b29dc47d6b84419b57433cc083ac7e0",
            "727f13f4153644cc82355872cdb50641",
            "0d6e8d89007945e5b526b818ae4d4d0e",
            "23fc58cee4e744b39d34d79f165d0742",
            "c9c585e2630a4d00b853c7fce75e4c2b",
            "ae7f05b6a64f45e5ab31ded4dc791f71",
            "99d7be8ed0b04b469e5c63d1d4e72fa9",
            "05afebc5ee994034919279ea1a71fe9a",
            "89787e9c40894f40af94e318a1167e2a",
            "6266a78d90684547a505728d103bc875",
            "1ce848cd760c4965b5650eb84cee83e4",
            "c0e223d1494942999e30ebd1c67e55a7",
            "188f6aad6bdc4140b6cd3c91233b36d9",
            "942900d5faeb471da3c926c6326aacb0",
            "999dd236d59544e7b8cf786585f01932",
            "4de370b0eaa04ff5ade82755ed587324",
            "ed41594bd02f4063add0c499ac8c5d5b",
            "fb892d44d545482f8c13043ad06c10b9",
            "0763477d72e44b94a53823316a721df5",
            "1fc46f30988e49c1a32fda94d24a0cf5",
            "2672baf7634b4606be790f1df84e64f1",
            "839887ef84e145759135717ca113cdef",
            "da0e06f19ab248daada5ef135989ebcf",
            "520e6d79936243b0bd1dc613e014744e",
            "1da1f54df73e471994ad8a3d65c1bd12",
            "3f7df86d2c9f482e80154171f20c62f9",
            "67e046b8f3be48a9b960c256999865b9",
            "6007eaa86f0e41cd9fa06d48d7988f76",
            "e7fd534df8394b0085f607f51e8edfed",
            "054437eaf8d448d9b4e532b8aaaccde5",
            "40a2da30a2f241ed87d78d62e6c931ea",
            "58aeee88afea47a6803f07a3e9bb32aa",
            "2d5356575eff4c12b84e247e28bf3980",
            "b25ed29f68874ac7952fc2c8b51a474f",
            "4714191fa2454d3c8b2d001e4bcaa4de",
            "202600ce5dea434083c2dc1acde24866",
            "5f40356df3f942958aa7197dd8e16699",
            "3bfd2e32f06a4d0eb553ac7f9f677ed1",
            "3401c7454f274f179f447384973bb64d",
            "086c2bda138749b4bc0f7d22525b0815",
            "4e9919776c3047a3bb7daf36d2865d47",
            "9521e6c1cea64d019b11717c6f865fe6",
            "5d2a45151afc4d5f913609b07056f6e8",
            "e862270f434a4c74ab222e1a1cb77fdb",
            "833b7495b7d64a30a772bd79f3ad18d5",
            "a8e6d7f8db5545dcad529a37fece7829",
            "111850fb98f24a43943cc2059bee9c5c",
            "47deb72b5c71454084562d5f0ef15c1e",
            "3e945497cb654a0b9b10ee081fe98d66",
            "2a3f6cf8309148c1a993ec0f9480173a",
            "f505eee1500646ac8acb28b2a09ee8f9",
            "d403006f41f140fbaa262b85cecd387f",
            "d6188a207e5347bc8e39c623a72408e2",
            "1fa68d620ecc4924a17ff98e43105ab4",
            "1dcf6bae80984e5fa8756f695a4de4d0"
          ]
        },
        "id": "uAMrk5BDQ5wh",
        "outputId": "263230a7-6bf6-4c7a-a47c-f122d38d5f2e"
      },
      "execution_count": 8,
      "outputs": [
        {
          "output_type": "stream",
          "name": "stderr",
          "text": [
            "/usr/local/lib/python3.11/dist-packages/huggingface_hub/utils/_auth.py:94: UserWarning: \n",
            "The secret `HF_TOKEN` does not exist in your Colab secrets.\n",
            "To authenticate with the Hugging Face Hub, create a token in your settings tab (https://huggingface.co/settings/tokens), set it as secret in your Google Colab and restart your session.\n",
            "You will be able to reuse this secret in all of your notebooks.\n",
            "Please note that authentication is recommended but still optional to access public models or datasets.\n",
            "  warnings.warn(\n"
          ]
        },
        {
          "output_type": "display_data",
          "data": {
            "text/plain": [
              "tokenizer_config.json:   0%|          | 0.00/26.0 [00:00<?, ?B/s]"
            ],
            "application/vnd.jupyter.widget-view+json": {
              "version_major": 2,
              "version_minor": 0,
              "model_id": "4f68bd2e5bcb4c8d8cf8a04863114e7c"
            }
          },
          "metadata": {}
        },
        {
          "output_type": "display_data",
          "data": {
            "text/plain": [
              "vocab.json:   0%|          | 0.00/1.04M [00:00<?, ?B/s]"
            ],
            "application/vnd.jupyter.widget-view+json": {
              "version_major": 2,
              "version_minor": 0,
              "model_id": "7b29dc47d6b84419b57433cc083ac7e0"
            }
          },
          "metadata": {}
        },
        {
          "output_type": "display_data",
          "data": {
            "text/plain": [
              "merges.txt:   0%|          | 0.00/456k [00:00<?, ?B/s]"
            ],
            "application/vnd.jupyter.widget-view+json": {
              "version_major": 2,
              "version_minor": 0,
              "model_id": "c0e223d1494942999e30ebd1c67e55a7"
            }
          },
          "metadata": {}
        },
        {
          "output_type": "display_data",
          "data": {
            "text/plain": [
              "tokenizer.json:   0%|          | 0.00/1.36M [00:00<?, ?B/s]"
            ],
            "application/vnd.jupyter.widget-view+json": {
              "version_major": 2,
              "version_minor": 0,
              "model_id": "da0e06f19ab248daada5ef135989ebcf"
            }
          },
          "metadata": {}
        },
        {
          "output_type": "display_data",
          "data": {
            "text/plain": [
              "config.json:   0%|          | 0.00/665 [00:00<?, ?B/s]"
            ],
            "application/vnd.jupyter.widget-view+json": {
              "version_major": 2,
              "version_minor": 0,
              "model_id": "b25ed29f68874ac7952fc2c8b51a474f"
            }
          },
          "metadata": {}
        },
        {
          "output_type": "display_data",
          "data": {
            "text/plain": [
              "model.safetensors:   0%|          | 0.00/548M [00:00<?, ?B/s]"
            ],
            "application/vnd.jupyter.widget-view+json": {
              "version_major": 2,
              "version_minor": 0,
              "model_id": "833b7495b7d64a30a772bd79f3ad18d5"
            }
          },
          "metadata": {}
        },
        {
          "output_type": "stream",
          "name": "stderr",
          "text": [
            "All PyTorch model weights were used when initializing TFGPT2LMHeadModel.\n",
            "\n",
            "All the weights of TFGPT2LMHeadModel were initialized from the PyTorch model.\n",
            "If your task is similar to the task the model of the checkpoint was trained on, you can already use TFGPT2LMHeadModel for predictions without further training.\n"
          ]
        }
      ]
    },
    {
      "cell_type": "code",
      "source": [
        "# Function to clean and split texts into paragraphs\n",
        "def clean_and_split_text(text):\n",
        "\n",
        "# Replacing multiple space with single space\n",
        "    text = re.sub(r'\\s+', '', text)\n",
        "\n",
        "# Split into paragraphs based on double new lines\n",
        "    paragraphs = text.split('\\n\\n')\n",
        "\n",
        "# Cleaning paragraphs and removing unwanted characters\n",
        "    cleaned_paragraphs = [p.strip() for p in paragraphs if p.strip() and not p.isdigit() and len(p) > 10]\n",
        "    return cleaned_paragraphs\n",
        "    for p in paragraphs:\n",
        "        p = p.strip()\n",
        "\n",
        "# Filtering out page numbers, headers, short lines\n",
        "        if p and not p.isdigit() and len(p) > 10:\n",
        "            cleaned_paragraphs.append(p)\n",
        "    return cleaned_paragraphs\n",
        "\n",
        "# Extract raw text from the pdf\n",
        "raw_text = extract_text_from_pdf(pdf_path)\n",
        "\n",
        "# Cleaning and spliting into paragraphs\n",
        "paragraphs = clean_and_split_text(raw_text)\n",
        "\n",
        "# Printing example to verify extraction\n",
        "print(\"Sample Paragraphs:\")\n",
        "for p in paragraphs[:3]:\n",
        "    print(p[:100] + \"...\")"
      ],
      "metadata": {
        "id": "N_S5gJBRCrss",
        "colab": {
          "base_uri": "https://localhost:8080/"
        },
        "outputId": "a21ecb45-6010-436a-a5c7-bc5772d20fd2"
      },
      "execution_count": 9,
      "outputs": [
        {
          "output_type": "stream",
          "name": "stdout",
          "text": [
            "Sample Paragraphs:\n",
            "NATIONALYOUTHSERVICECORPS(NYSC)BYE-LAWS(Revised2011)1.MOTTOOFTHENATIONALYOUTHSERVICECORPS•TheMottoof...\n"
          ]
        }
      ]
    },
    {
      "cell_type": "code",
      "source": [
        "# Function to save data to JSON\n",
        "def save_to_json(data, json_path):\n",
        "    with open(json_path, 'w') as f:\n",
        "        json.dump(data, f, indent=2)\n",
        "\n",
        "# Converting paragraphs into a list of dictionaries\n",
        "dataset = [{\"text\": p} for p in paragraphs]\n",
        "\n",
        "# Saving dataset to JSON\n",
        "save_to_json(dataset, json_path)\n",
        "\n",
        "# Verify by loading and printing a sample\n",
        "with open(json_path, 'r') as f:\n",
        "    loaded_dataset = json.load(f)\n",
        "print(\"Sample from JSON:\")\n",
        "print(loaded_dataset[0]['text'][:100] + \"...\")"
      ],
      "metadata": {
        "id": "2vIfcsX5Crp1",
        "colab": {
          "base_uri": "https://localhost:8080/"
        },
        "outputId": "924876b2-3a59-43db-ed2c-f38a8c33e07e"
      },
      "execution_count": 10,
      "outputs": [
        {
          "output_type": "stream",
          "name": "stdout",
          "text": [
            "Sample from JSON:\n",
            "NATIONALYOUTHSERVICECORPS(NYSC)BYE-LAWS(Revised2011)1.MOTTOOFTHENATIONALYOUTHSERVICECORPS•TheMottoof...\n"
          ]
        }
      ]
    },
    {
      "cell_type": "code",
      "source": [
        "# Function to tokenize text\n",
        "def tokenize_function(examples):\n",
        "    return tokenizer(examples['text'],\n",
        "truncation=True, padding='max_length',\n",
        "max_length=1024)\n",
        "\n",
        "# Tokenzing the dataset\n",
        "tokenized_dataset = [tokenizer(p['text'], truncation=True, padding='max_length', max_length=1024) for p in dataset]\n",
        "\n",
        "# Generator function for TensorFlow dataset\n",
        "def generator():\n",
        "    for item in tokenized_dataset:\n",
        "        yield {'input_ids': item['input_ids'], 'attention_mask': item['attention_mask']}\n",
        "\n",
        "# Print dataset size for debugging\n",
        "print(f\"Dataset size: {len(dataset)} paragraphs\")\n",
        "for i, p in enumerate(dataset[:3]):  # Sample first 3 entries\n",
        "    print(f\"Sample {i+1}: {p['text'][:100]}...\")\n",
        "\n",
        "# Create TensorFlow dataset with batching\n",
        "tf_dataset = tf.data.Dataset.from_generator(\n",
        "    generator,\n",
        "    output_types={'input_ids': tf.int32, 'attention_mask': tf.int32},\n",
        "    output_shapes={'input_ids': [1024], 'attention_mask': [1024]}\n",
        ").batch(1)\n",
        "\n",
        "print(\"Dataset ready for training!\")"
      ],
      "metadata": {
        "id": "UlcZG_1ICrj4",
        "colab": {
          "base_uri": "https://localhost:8080/"
        },
        "outputId": "0cebd455-9af4-4520-ef76-c778a33b9248"
      },
      "execution_count": 11,
      "outputs": [
        {
          "output_type": "stream",
          "name": "stdout",
          "text": [
            "Dataset size: 1 paragraphs\n",
            "Sample 1: NATIONALYOUTHSERVICECORPS(NYSC)BYE-LAWS(Revised2011)1.MOTTOOFTHENATIONALYOUTHSERVICECORPS•TheMottoof...\n",
            "Dataset ready for training!\n"
          ]
        }
      ]
    },
    {
      "cell_type": "code",
      "source": [
        "#Checking file type\n",
        "for i, example in enumerate(dataset[:3]):\n",
        "    print(f\"Entry {i}: Type={type(example['text'])}, Content={example['text'][:50]}...\")"
      ],
      "metadata": {
        "colab": {
          "base_uri": "https://localhost:8080/"
        },
        "id": "l3OZ2mnieFb8",
        "outputId": "d59822e4-c192-475a-bae5-fb7055deea8c"
      },
      "execution_count": 12,
      "outputs": [
        {
          "output_type": "stream",
          "name": "stdout",
          "text": [
            "Entry 0: Type=<class 'str'>, Content=NATIONALYOUTHSERVICECORPS(NYSC)BYE-LAWS(Revised201...\n"
          ]
        }
      ]
    },
    {
      "cell_type": "code",
      "source": [
        "#Converting entryies to strings\n",
        "paragraphs = [str(p) for p in paragraphs if p is not None]\n",
        "dataset = [{\"text\": p} for p in paragraphs]\n",
        "#Removing empty paragraphs\n",
        "paragraphs = [p for p in paragraphs if p.strip()]\n",
        "dataset = [{\"text\": p} for p in paragraphs]\n"
      ],
      "metadata": {
        "id": "GUXk1ROPdeRO"
      },
      "execution_count": 13,
      "outputs": []
    },
    {
      "cell_type": "code",
      "source": [
        "#using ftfy to fix encoding issues\n",
        "!pip install ftfy\n",
        "import ftfy\n",
        "paragraphs = [ftfy.fix_text(p) for p in paragraphs]\n",
        "dataset = [{\"text\": p} for p in paragraphs]\n",
        "\n",
        "paragraphs = [p.encode('ascii', 'ignore').decode('ascii') for p in paragraphs]"
      ],
      "metadata": {
        "colab": {
          "base_uri": "https://localhost:8080/"
        },
        "id": "K_U_gRbTfXMQ",
        "outputId": "c569fafd-da02-4bff-c2d4-8b6df6c22bc2"
      },
      "execution_count": 14,
      "outputs": [
        {
          "output_type": "stream",
          "name": "stdout",
          "text": [
            "Collecting ftfy\n",
            "  Downloading ftfy-6.3.1-py3-none-any.whl.metadata (7.3 kB)\n",
            "Requirement already satisfied: wcwidth in /usr/local/lib/python3.11/dist-packages (from ftfy) (0.2.13)\n",
            "Downloading ftfy-6.3.1-py3-none-any.whl (44 kB)\n",
            "\u001b[?25l   \u001b[90m━━━━━━━━━━━━━━━━━━━━━━━━━━━━━━━━━━━━━━━━\u001b[0m \u001b[32m0.0/44.8 kB\u001b[0m \u001b[31m?\u001b[0m eta \u001b[36m-:--:--\u001b[0m\r\u001b[2K   \u001b[90m━━━━━━━━━━━━━━━━━━━━━━━━━━━━━━━━━━━━━━━━\u001b[0m \u001b[32m44.8/44.8 kB\u001b[0m \u001b[31m2.9 MB/s\u001b[0m eta \u001b[36m0:00:00\u001b[0m\n",
            "\u001b[?25hInstalling collected packages: ftfy\n",
            "Successfully installed ftfy-6.3.1\n"
          ]
        }
      ]
    },
    {
      "cell_type": "code",
      "source": [
        "#Spliting paragraphs into smaller chunks\n",
        "def split_long_paragraphs(paragraphs, max_words=500):\n",
        "    new_paragraphs = []\n",
        "    for p in paragraphs:\n",
        "        words = p.split()\n",
        "        if len(words) > max_words:\n",
        "            for i in range(0, len(words), max_words):\n",
        "                chunk = ' '.join(words[i:i + max_words])\n",
        "                new_paragraphs.append(chunk)\n",
        "        else:\n",
        "            new_paragraphs.append(p)\n",
        "    return new_paragraphs\n",
        "\n",
        "paragraphs = split_long_paragraphs(paragraphs)\n",
        "dataset = [{\"text\": p} for p in paragraphs]"
      ],
      "metadata": {
        "id": "DyGSUkAUgUnH"
      },
      "execution_count": 15,
      "outputs": []
    },
    {
      "cell_type": "code",
      "source": [
        "#Tokenizing one piece\n",
        "tokenizer = GPT2Tokenizer.from_pretrained('gpt2')\n",
        "tokenizer.pad_token = tokenizer.eos_token  # Set pad_token to eos_token\n",
        "test_text = dataset[0]['text']  # Assumes dataset is defined\n",
        "tokenized_output = tokenizer(test_text, truncation=True, padding='max_length', max_length=1024)\n",
        "print(\"Tokenized Output:\", tokenized_output)"
      ],
      "metadata": {
        "colab": {
          "base_uri": "https://localhost:8080/"
        },
        "id": "DMujLbnPg9mW",
        "outputId": "2da73f64-227e-4d0a-ef5b-326444d3bfaa"
      },
      "execution_count": 16,
      "outputs": [
        {
          "output_type": "stream",
          "name": "stdout",
          "text": [
            "Tokenized Output: {'input_ids': [45, 29912, 36981, 4221, 35009, 53, 2149, 2943, 1581, 3705, 7, 12805, 6173, 8, 17513, 36, 12, 43, 12298, 50, 7, 18009, 1417, 9804, 8, 16, 13, 44, 29089, 6684, 37, 4221, 1677, 29912, 36981, 4221, 35009, 53, 2149, 2943, 1581, 3705, 464, 44, 1252, 2238, 701, 258, 16186, 56, 1536, 16177, 10606, 862, 7, 1456, 1437, 637, 260, 18186, 1462, 459, 258, 1, 16177, 10606, 862, 4943, 49271, 1350, 1, 16177, 392, 32661, 879, 17, 13, 10970, 6489, 1961, 8264, 6109, 19522, 11205, 258, 16177, 10606, 862, 7, 1456, 1437, 637, 260, 18186, 1462, 292, 1, 19522, 4943, 1477, 5691, 549, 40075, 27206, 1746, 570, 330, 404, 8226, 701, 258, 16186, 10137, 469, 392, 12805, 6173, 10137, 469, 19052, 1169, 23675, 26141, 2004, 870, 10462, 6648, 12, 259, 34, 567, 9926, 1078, 258, 13989, 341, 16544, 13, 2025, 4948, 1491, 1929, 1659, 1768, 273, 5420, 385, 395, 418, 549, 40075, 27206, 1746, 16891, 258, 16186, 392, 1169, 12805, 6173, 10137, 70, 408, 18323, 11181, 2228, 1525, 1169, 21111, 36699, 392, 11, 733, 633, 5162, 6267, 11, 6667, 3379, 83, 672, 276, 721, 13322, 1746, 298, 448, 11205, 258, 13989, 341, 16544, 13, 464, 30814, 18323, 8807, 1350, 40845, 40301, 462, 1891, 69, 669, 712, 291, 316, 13210, 1563, 258, 19545, 43501, 3319, 258, 13989, 341, 1069, 23697, 8807, 361, 258, 271, 1493, 83, 418, 549, 40075, 316, 418, 16891, 258, 10137, 3212, 13, 18, 13, 34, 3727, 4720, 4851, 18672, 18415, 40, 13, 35, 4261, 2751, 4221, 8905, 1137, 40, 3727, 46, 13775, 28495, 6234, 6109, 30814, 18323, 25, 16, 13, 8086, 437, 16338, 306, 11, 392, 48013, 378, 11, 2759, 259, 439, 16841, 1516, 38113, 756, 258, 3245, 11, 265, 801, 942, 392, 439, 23625, 1659, 1818, 13, 2025, 4948, 1491, 1929, 420, 2586, 15460, 27206, 1092, 16841, 1516, 5082, 756, 258, 3245, 11, 265, 801, 942, 273, 23625, 1659, 5225, 18323, 11181, 2228, 1525, 1169, 21111, 36699, 392, 11, 733, 633, 5162, 6267, 11, 6667, 3379, 83, 672, 276, 721, 13322, 1746, 298, 448, 11205, 258, 16544, 464, 30814, 18323, 8807, 1350, 40845, 40301, 462, 1891, 69, 669, 712, 501, 1525, 40044, 1169, 19545, 43501, 3319, 258, 13989, 341, 1069, 23697, 13, 17, 13, 3673, 47408, 13989, 341, 16544, 273, 8937, 7944, 320, 741, 487, 398, 1092, 16841, 21797, 19419, 1169, 15266, 5936, 298, 11205, 258, 9012, 7222, 585, 20900, 4360, 12518, 8937, 298, 6738, 71, 9409, 8249, 261, 23317, 1659, 359, 1108, 11, 641, 495, 400, 1381, 794, 8937, 3007, 41168, 1525, 272, 1, 40127, 1904, 35, 3935, 37608, 22460, 1, 39361, 1525, 2434, 605, 4598, 310, 419, 831, 623, 3935, 1078, 258, 16544, 2025, 4948, 1491, 1929, 2305, 615, 395, 258, 16544, 19419, 1169, 525, 3411, 6738, 1169, 9012, 7222, 585, 47721, 18323, 11181, 2228, 1525, 1169, 21111, 36699, 392, 11, 733, 633, 5162, 6267, 11, 6667, 3379, 83, 672, 276, 721, 13322, 1746, 298, 448, 1659, 16544, 13, 464, 30814, 18323, 8807, 1350, 40845, 40301, 462, 1891, 69, 669, 712, 501, 1525, 40044, 1169, 19545, 43501, 3319, 258, 13989, 341, 1069, 23697, 13, 18, 13, 3673, 28483, 903, 4480, 600, 258, 31605, 2696, 13, 2025, 4948, 1491, 1929, 519, 4131, 1203, 18323, 65, 567, 9213, 83, 20388, 38191, 1640, 1676, 9534, 13, 19, 13, 3673, 1350, 259, 79, 49809, 2364, 557, 8357, 273, 321, 12640, 2025, 4948, 1491, 1929, 1659, 75, 448, 301, 14363, 38785, 18323, 65, 567, 9213, 83, 20388, 38191, 1640, 1676, 9534, 13, 20, 13, 45, 1747, 76, 2088, 11, 2395, 86, 49459, 10919, 15485, 11, 15883, 273, 504, 86, 2798, 5691, 11, 4514, 261, 1845, 671, 392, 265, 1092, 847, 2435, 11, 1662, 5796, 2088, 259, 499, 305, 44139, 20337, 1506, 808, 2971, 276, 46040, 4360, 912, 273, 2971, 276, 6759, 2052, 10755, 1169, 31605, 2696, 6651, 8613, 13, 2025, 4948, 1491, 1929, 1659, 75, 448, 301, 14363, 38785, 18323, 11181, 2228, 1525, 1169, 21111, 36699, 392, 11, 733, 633, 5162, 6267, 11, 6667, 3379, 1462, 2302, 6335, 20190, 25718, 5893, 7, 1270, 8, 1084, 1769, 13, 21, 13, 3673, 1136, 7109, 2954, 2025, 4948, 1491, 9275, 83, 672, 276, 5143, 591, 18323, 11181, 2228, 1525, 1169, 21111, 36699, 392, 11, 733, 633, 5162, 6267, 11, 6667, 3379, 1462, 2302, 6335, 20190, 392, 14, 273, 10414, 21828, 83, 20388, 16544, 260, 5976, 18194, 3823, 25718, 5893, 7, 1270, 8, 1084, 1769, 13, 22, 13, 3673, 260, 15164, 4703, 6742, 600, 258, 20991, 24900, 984, 261, 50, 39724, 11, 20602, 592, 392, 11377, 39, 10180, 592, 13, 2025, 4948, 1491, 1929, 1659, 75, 448, 301, 14363, 38785, 18323, 11181, 2228, 1525, 1169, 16544, 22230, 392, 11, 733, 633, 5162, 6267, 11, 6667, 3379, 1462, 2302, 6335, 20190, 392, 14, 273, 10414, 21828, 83, 20388, 16544, 260, 5976, 18194, 3823, 25718, 5893, 7, 1270, 8, 1084, 1769, 13, 23, 13, 1135, 433, 258, 7785, 699, 403, 6933, 82, 41279, 3319, 258, 15791, 871, 2025, 4948, 1491, 1929, 382, 69, 2664, 11, 69, 1768, 8553, 70, 801, 301, 42829, 2145, 4480, 5661, 38785, 18323, 11181, 2228, 1525, 1169, 21111, 36699, 392, 11, 733, 633, 5162, 6267, 11, 6667, 3379, 83, 672, 276, 721, 13322, 1746, 298, 448, 11205, 258, 13989, 341, 16544, 24, 13, 3673, 14894, 41607, 79, 1039, 1939, 696, 2025, 4948, 1491, 1929, 672, 33173, 41607, 6449, 301, 26047, 49271, 1662, 65, 567, 70, 23187, 392, 361, 282, 1493, 33736, 11, 49271, 3077, 721, 13322, 13, 940, 13, 45, 1252, 539, 3911, 259, 39949, 2673, 2025, 4948, 1491, 1929, 313, 1124, 3911, 259, 36671, 579, 672, 4658, 18323, 65, 567, 9213, 83, 20388, 38191, 1640, 1676, 9534, 13, 1157, 13, 3673, 301, 2287, 13, 2025, 4948, 1491, 1929, 455, 2287, 824, 18323, 65, 567, 9213, 83, 20388, 38191, 1640, 1676, 9534, 1065, 13, 45, 1252, 539, 3911, 259, 273, 9971, 33977, 432, 3911, 444, 1939, 696, 19419, 1169, 15266, 525, 3411, 11205, 258, 9012, 7222, 585, 20900, 13, 2025, 4948, 1491, 1929, 1659, 1768, 11, 5420, 2664, 8553, 70, 801, 301, 42829, 2145, 4480, 5661, 38785, 18323, 11181, 2228, 1525, 1169, 21111, 36699, 392, 11, 733, 633, 5162, 6267, 11, 6667, 3379, 1462, 2302, 6335, 20190, 392, 14, 273, 10414, 21828, 83, 20388, 16544, 260], 'attention_mask': [1, 1, 1, 1, 1, 1, 1, 1, 1, 1, 1, 1, 1, 1, 1, 1, 1, 1, 1, 1, 1, 1, 1, 1, 1, 1, 1, 1, 1, 1, 1, 1, 1, 1, 1, 1, 1, 1, 1, 1, 1, 1, 1, 1, 1, 1, 1, 1, 1, 1, 1, 1, 1, 1, 1, 1, 1, 1, 1, 1, 1, 1, 1, 1, 1, 1, 1, 1, 1, 1, 1, 1, 1, 1, 1, 1, 1, 1, 1, 1, 1, 1, 1, 1, 1, 1, 1, 1, 1, 1, 1, 1, 1, 1, 1, 1, 1, 1, 1, 1, 1, 1, 1, 1, 1, 1, 1, 1, 1, 1, 1, 1, 1, 1, 1, 1, 1, 1, 1, 1, 1, 1, 1, 1, 1, 1, 1, 1, 1, 1, 1, 1, 1, 1, 1, 1, 1, 1, 1, 1, 1, 1, 1, 1, 1, 1, 1, 1, 1, 1, 1, 1, 1, 1, 1, 1, 1, 1, 1, 1, 1, 1, 1, 1, 1, 1, 1, 1, 1, 1, 1, 1, 1, 1, 1, 1, 1, 1, 1, 1, 1, 1, 1, 1, 1, 1, 1, 1, 1, 1, 1, 1, 1, 1, 1, 1, 1, 1, 1, 1, 1, 1, 1, 1, 1, 1, 1, 1, 1, 1, 1, 1, 1, 1, 1, 1, 1, 1, 1, 1, 1, 1, 1, 1, 1, 1, 1, 1, 1, 1, 1, 1, 1, 1, 1, 1, 1, 1, 1, 1, 1, 1, 1, 1, 1, 1, 1, 1, 1, 1, 1, 1, 1, 1, 1, 1, 1, 1, 1, 1, 1, 1, 1, 1, 1, 1, 1, 1, 1, 1, 1, 1, 1, 1, 1, 1, 1, 1, 1, 1, 1, 1, 1, 1, 1, 1, 1, 1, 1, 1, 1, 1, 1, 1, 1, 1, 1, 1, 1, 1, 1, 1, 1, 1, 1, 1, 1, 1, 1, 1, 1, 1, 1, 1, 1, 1, 1, 1, 1, 1, 1, 1, 1, 1, 1, 1, 1, 1, 1, 1, 1, 1, 1, 1, 1, 1, 1, 1, 1, 1, 1, 1, 1, 1, 1, 1, 1, 1, 1, 1, 1, 1, 1, 1, 1, 1, 1, 1, 1, 1, 1, 1, 1, 1, 1, 1, 1, 1, 1, 1, 1, 1, 1, 1, 1, 1, 1, 1, 1, 1, 1, 1, 1, 1, 1, 1, 1, 1, 1, 1, 1, 1, 1, 1, 1, 1, 1, 1, 1, 1, 1, 1, 1, 1, 1, 1, 1, 1, 1, 1, 1, 1, 1, 1, 1, 1, 1, 1, 1, 1, 1, 1, 1, 1, 1, 1, 1, 1, 1, 1, 1, 1, 1, 1, 1, 1, 1, 1, 1, 1, 1, 1, 1, 1, 1, 1, 1, 1, 1, 1, 1, 1, 1, 1, 1, 1, 1, 1, 1, 1, 1, 1, 1, 1, 1, 1, 1, 1, 1, 1, 1, 1, 1, 1, 1, 1, 1, 1, 1, 1, 1, 1, 1, 1, 1, 1, 1, 1, 1, 1, 1, 1, 1, 1, 1, 1, 1, 1, 1, 1, 1, 1, 1, 1, 1, 1, 1, 1, 1, 1, 1, 1, 1, 1, 1, 1, 1, 1, 1, 1, 1, 1, 1, 1, 1, 1, 1, 1, 1, 1, 1, 1, 1, 1, 1, 1, 1, 1, 1, 1, 1, 1, 1, 1, 1, 1, 1, 1, 1, 1, 1, 1, 1, 1, 1, 1, 1, 1, 1, 1, 1, 1, 1, 1, 1, 1, 1, 1, 1, 1, 1, 1, 1, 1, 1, 1, 1, 1, 1, 1, 1, 1, 1, 1, 1, 1, 1, 1, 1, 1, 1, 1, 1, 1, 1, 1, 1, 1, 1, 1, 1, 1, 1, 1, 1, 1, 1, 1, 1, 1, 1, 1, 1, 1, 1, 1, 1, 1, 1, 1, 1, 1, 1, 1, 1, 1, 1, 1, 1, 1, 1, 1, 1, 1, 1, 1, 1, 1, 1, 1, 1, 1, 1, 1, 1, 1, 1, 1, 1, 1, 1, 1, 1, 1, 1, 1, 1, 1, 1, 1, 1, 1, 1, 1, 1, 1, 1, 1, 1, 1, 1, 1, 1, 1, 1, 1, 1, 1, 1, 1, 1, 1, 1, 1, 1, 1, 1, 1, 1, 1, 1, 1, 1, 1, 1, 1, 1, 1, 1, 1, 1, 1, 1, 1, 1, 1, 1, 1, 1, 1, 1, 1, 1, 1, 1, 1, 1, 1, 1, 1, 1, 1, 1, 1, 1, 1, 1, 1, 1, 1, 1, 1, 1, 1, 1, 1, 1, 1, 1, 1, 1, 1, 1, 1, 1, 1, 1, 1, 1, 1, 1, 1, 1, 1, 1, 1, 1, 1, 1, 1, 1, 1, 1, 1, 1, 1, 1, 1, 1, 1, 1, 1, 1, 1, 1, 1, 1, 1, 1, 1, 1, 1, 1, 1, 1, 1, 1, 1, 1, 1, 1, 1, 1, 1, 1, 1, 1, 1, 1, 1, 1, 1, 1, 1, 1, 1, 1, 1, 1, 1, 1, 1, 1, 1, 1, 1, 1, 1, 1, 1, 1, 1, 1, 1, 1, 1, 1, 1, 1, 1, 1, 1, 1, 1, 1, 1, 1, 1, 1, 1, 1, 1, 1, 1, 1, 1, 1, 1, 1, 1, 1, 1, 1, 1, 1, 1, 1, 1, 1, 1, 1, 1, 1, 1, 1, 1, 1, 1, 1, 1, 1, 1, 1, 1, 1, 1, 1, 1, 1, 1, 1, 1, 1, 1, 1, 1, 1, 1, 1, 1, 1, 1, 1, 1, 1, 1, 1, 1, 1, 1, 1, 1, 1, 1, 1, 1, 1, 1, 1, 1, 1, 1, 1, 1, 1, 1, 1, 1, 1, 1, 1, 1, 1, 1, 1, 1, 1, 1, 1, 1, 1, 1, 1, 1, 1, 1, 1, 1, 1, 1, 1, 1, 1, 1, 1, 1, 1, 1, 1, 1, 1, 1, 1, 1, 1, 1, 1, 1, 1, 1, 1, 1, 1, 1, 1, 1, 1, 1, 1, 1, 1, 1, 1, 1, 1, 1, 1, 1, 1, 1, 1, 1, 1, 1, 1, 1, 1, 1, 1, 1, 1, 1, 1, 1, 1, 1, 1, 1, 1, 1, 1, 1, 1, 1, 1, 1, 1, 1, 1, 1, 1, 1, 1, 1, 1, 1, 1, 1, 1, 1, 1, 1, 1, 1]}\n"
          ]
        }
      ]
    },
    {
      "cell_type": "code",
      "source": [
        "tokenized_dataset = [tokenizer(p['text'],\n",
        "truncation=True, padding='max_length',\n",
        "max_length=1024) for p in dataset]"
      ],
      "metadata": {
        "id": "krPx07J9ji1_"
      },
      "execution_count": 17,
      "outputs": []
    },
    {
      "cell_type": "code",
      "source": [
        "# Define optimizer\n",
        "optimizer = tf.keras.optimizers.Adam(learning_rate=5e-5)\n",
        "\n",
        "# Define loss function (GPT-2 uses causal LM loss)\n",
        "loss_fn = tf.keras.losses.SparseCategoricalCrossentropy(from_logits=True, reduction=tf.keras.losses.Reduction.NONE)\n",
        "\n",
        "# Training parameters\n",
        "epochs = 30\n",
        "steps_per_epoch = max(1, len(tokenized_dataset) // 2)"
      ],
      "metadata": {
        "id": "yluaPzp1pyhD"
      },
      "execution_count": 37,
      "outputs": []
    },
    {
      "cell_type": "code",
      "source": [
        "# Custom training step\n",
        "@tf.function\n",
        "def train_step(inputs):\n",
        "    input_ids = inputs['input_ids']\n",
        "    attention_mask = inputs['attention_mask']\n",
        "    with tf.GradientTape() as tape:\n",
        "        outputs = model(input_ids, attention_mask=attention_mask, training=True)\n",
        "        logits = outputs.logits\n",
        "        shift_logits = logits[:, :-1, :]\n",
        "        shift_labels = input_ids[:, 1:]\n",
        "        shift_mask = tf.cast(attention_mask[:, 1:], tf.float32)\n",
        "        loss = loss_fn(shift_labels, shift_logits)\n",
        "        masked_loss = loss * shift_mask\n",
        "        loss_value = tf.reduce_sum(masked_loss) / tf.reduce_sum(shift_mask)\n",
        "    grads = tape.gradient(loss_value, model.trainable_weights)\n",
        "    optimizer.apply_gradients(zip(grads, model.trainable_weights))\n",
        "    return loss_value\n",
        "\n",
        "# Training loop\n",
        "for epoch in range(epochs):\n",
        "    print(f\"Epoch {epoch + 1}/{epochs}\")\n",
        "    total_loss = 0\n",
        "    step_count = 0\n",
        "    for step, batch in enumerate(tf_dataset):\n",
        "        loss_value = train_step(batch)\n",
        "        total_loss += loss_value\n",
        "        step_count += 1\n",
        "        if step % 10 == 0:  # Print every 10 steps\n",
        "            print(f\"Step {step}/{steps_per_epoch}, Loss: {loss_value:.4f}\")\n",
        "    avg_loss = total_loss / step_count if step_count > 0 else float('inf')\n",
        "    print(f\"Average Loss for Epoch {epoch + 1}: {avg_loss:.4f}\")\n",
        "\n",
        "# Save the fine-tuned model and tokenizer\n",
        "model_save_path = \"/content/drive/MyDrive/gpt2_finetuned\"\n",
        "model.save_pretrained(\"./model_output\")\n",
        "tokenizer.save_pretrained(\"./model_output\")\n",
        "\n",
        "print(\"Training completed and model saved!\")"
      ],
      "metadata": {
        "colab": {
          "base_uri": "https://localhost:8080/"
        },
        "id": "_G1obOVhqAyu",
        "outputId": "c92d780c-521b-4465-a3b4-bf26015accc0"
      },
      "execution_count": null,
      "outputs": [
        {
          "output_type": "stream",
          "name": "stdout",
          "text": [
            "Epoch 1/30\n"
          ]
        }
      ]
    },
    {
      "cell_type": "code",
      "source": [
        "\"\"\"\n",
        "# Define training parameters\n",
        "training_args = TrainingArguments(\n",
        "    output_dir=\"./model_output\",    # model save directory\n",
        "    overwrite_output_dir=True,      # overwrite output directory if it exists\n",
        "    num_train_epochs=3,             # number of training epochs\n",
        "    per_device_train_batch_size=4,  # batch size per device\n",
        "    save_steps=500,                 # save checkpoint every 500 steps\n",
        "    save_total_limit=2,             # keep the last 2 checkpoint only\n",
        "    logging_dir=\"./logs\",           # log directory\n",
        ")\n",
        "\n",
        "# Initializing the trainer\n",
        "trainer = Trainer(\n",
        "    model=model,\n",
        "    args=training_args,\n",
        "    train_dataset=tf_dataset,\n",
        ")\n",
        "\n",
        "# Starting training\n",
        "trainer.train()\n",
        "\"\"\""
      ],
      "metadata": {
        "id": "YqNQV0e4CrhK",
        "colab": {
          "base_uri": "https://localhost:8080/",
          "height": 122
        },
        "collapsed": true,
        "outputId": "620d5c27-a477-4759-dd06-eeae8c6d0fd1"
      },
      "execution_count": 20,
      "outputs": [
        {
          "output_type": "execute_result",
          "data": {
            "text/plain": [
              "'\\n# Define training parameters\\ntraining_args = TrainingArguments(\\n    output_dir=\"./model_output\",    # model save directory\\n    overwrite_output_dir=True,      # overwrite output directory if it exists\\n    num_train_epochs=3,             # number of training epochs\\n    per_device_train_batch_size=4,  # batch size per device\\n    save_steps=500,                 # save checkpoint every 500 steps\\n    save_total_limit=2,             # keep the last 2 checkpoint only\\n    logging_dir=\"./logs\",           # log directory\\n)\\n\\n# Initializing the trainer\\ntrainer = Trainer(\\n    model=model,\\n    args=training_args,\\n    train_dataset=tf_dataset,\\n)\\n\\n# Starting training\\ntrainer.train()\\n'"
            ],
            "application/vnd.google.colaboratory.intrinsic+json": {
              "type": "string"
            }
          },
          "metadata": {},
          "execution_count": 20
        }
      ]
    },
    {
      "cell_type": "code",
      "source": [
        "# Saving the model and tokenizer\n",
        "model.save_pretrained(model_save_path)\n",
        "tokenizer.save_pretrained(model_save_path)"
      ],
      "metadata": {
        "id": "VZaU9aNUCreE",
        "colab": {
          "base_uri": "https://localhost:8080/"
        },
        "outputId": "a34634c7-ae1a-4291-88a0-2f5522ee818b"
      },
      "execution_count": 21,
      "outputs": [
        {
          "output_type": "execute_result",
          "data": {
            "text/plain": [
              "('/content/drive/MyDrive/gpt2_finetuned/tokenizer_config.json',\n",
              " '/content/drive/MyDrive/gpt2_finetuned/special_tokens_map.json',\n",
              " '/content/drive/MyDrive/gpt2_finetuned/vocab.json',\n",
              " '/content/drive/MyDrive/gpt2_finetuned/merges.txt',\n",
              " '/content/drive/MyDrive/gpt2_finetuned/added_tokens.json')"
            ]
          },
          "metadata": {},
          "execution_count": 21
        }
      ]
    },
    {
      "cell_type": "code",
      "source": [
        "# Loading the trained model for text generation\n",
        "generator = pipeline('text-generation',\n",
        "model=model_save_path, tokenizer=tokenizer)\n",
        "\n",
        "# Sample prompt related to NYSC Bye-Laws\n",
        "prompt = \"Section 1: All Corps Members shall\"\n",
        "\n",
        "# Generate text with adjustable parameters\n",
        "output = generator(\n",
        "    prompt,\n",
        "    max_length=100,       # Maximum length for generated texts\n",
        "    temperature=0.7,      # Randomness control\n",
        "    top_k=50,             # Sample limiting to top 50 tokens\n",
        "    top_p=0.9,            # Nucleus sampling\n",
        "    do_sample=True        # Enables sampling for varied outputs\n",
        ")\n",
        "\n",
        "# Printing generated texts\n",
        "print(\"Generated Text:\")\n",
        "print(output[0]['generated_text'])"
      ],
      "metadata": {
        "id": "sTzk7G4PCrbn",
        "colab": {
          "base_uri": "https://localhost:8080/"
        },
        "outputId": "22f92f18-6115-439d-9f80-d8c9c83db06e"
      },
      "execution_count": 22,
      "outputs": [
        {
          "output_type": "stream",
          "name": "stderr",
          "text": [
            "All model checkpoint layers were used when initializing TFGPT2LMHeadModel.\n",
            "\n",
            "All the layers of TFGPT2LMHeadModel were initialized from the model checkpoint at /content/drive/MyDrive/gpt2_finetuned.\n",
            "If your task is similar to the task the model of the checkpoint was trained on, you can already use TFGPT2LMHeadModel for predictions without further training.\n",
            "Device set to use 0\n",
            "Truncation was not explicitly activated but `max_length` is provided a specific value, please use `truncation=True` to explicitly truncate examples to max length. Defaulting to 'longest_first' truncation strategy. If you encode pairs of sequences (GLUE-style) with the tokenizer you can select this strategy more precisely by providing a specific strategy to `truncation`.\n"
          ]
        },
        {
          "output_type": "stream",
          "name": "stdout",
          "text": [
            "Generated Text:\n",
            "Section 1: All Corps Members shall, without delay, submit to the Chief of the Corps of Engineers and the Chief of the State and local governments of the State or of the Territory, a copy of any of the following: (a) The name, address, and telephone number of the person who, by virtue of his or her official duties, is to be authorized to act as the Secretary of the Interior. (b) The date, time, place, and manner of his or her attendance\n"
          ]
        }
      ]
    },
    {
      "cell_type": "code",
      "source": [
        "# Sample prompt related to NYSC Bye-Laws\n",
        "prompt = \"Corps Members must\"\n",
        "\n",
        "# Generate text with adjustable parameters\n",
        "output = generator(\n",
        "    prompt,\n",
        "    max_length=100,       # Maximum length for generated texts\n",
        "    temperature=0.5,      # Randomness control\n",
        "    top_k=40,             # Sample limiting to top 50 tokens\n",
        "    top_p=0.85,            # Nucleus sampling\n",
        "    do_sample=True        # Enables sampling for varied outputs\n",
        ")\n",
        "\n",
        "# Printing generated texts\n",
        "print(\"Generated Text:\")\n",
        "print(output[0]['generated_text'])"
      ],
      "metadata": {
        "id": "hWNg5ry9CrY2",
        "colab": {
          "base_uri": "https://localhost:8080/"
        },
        "outputId": "5b7696bd-f726-46e1-e990-bb354f92fcda"
      },
      "execution_count": 23,
      "outputs": [
        {
          "output_type": "stream",
          "name": "stdout",
          "text": [
            "Generated Text:\n",
            "Corps Members must be registered with the Department of Justice.\n",
            "\n",
            "Criminal Justice\n",
            "\n",
            "Criminal Justice is a civil rights organization that works to improve the lives of black and brown people.\n",
            "\n",
            "The organization's mission is to promote justice and to build a better society.\n",
            "\n",
            "Criminal Justice is committed to building a better society by:\n",
            "\n",
            "Promoting the rule of law and the rule of law of the United States.\n",
            "\n",
            "Promoting civil rights, including the right to fair\n"
          ]
        }
      ]
    },
    {
      "cell_type": "code",
      "source": [
        "# Load the trained model and tokenizer from the saved path\n",
        "model_save_path = \"/content/drive/MyDrive/gpt2_finetuned\"  # Confirm this matches your save location\n",
        "generator = pipeline('text-generation', model=model_save_path, tokenizer=tokenizer)\n",
        "\n",
        "# Sample prompt related to NYSC Bye-Laws\n",
        "prompt = \"Section 1: All Corps Members shall\"\n",
        "\n",
        "# Generate text with refined parameters\n",
        "output = generator(\n",
        "    prompt,\n",
        "    max_length=100,         # Maximum length for generated text\n",
        "    truncation=True,        # Explicitly enable truncation to avoid warning\n",
        "    temperature=0.6,        # Slightly lower for less randomness\n",
        "    top_k=40,              # Focus on top 40 tokens\n",
        "    top_p=0.85,            # Stricter nucleus sampling\n",
        "    repetition_penalty=1.2, # Penalize repeated phrases\n",
        "    do_sample=True,         # Enable sampling\n",
        "    num_return_sequences=1  # Generate one sequence\n",
        ")\n",
        "\n",
        "# Print generated text\n",
        "print(\"Generated Text:\")\n",
        "print(output[0]['generated_text'])"
      ],
      "metadata": {
        "id": "j4DwD72RCrV8",
        "colab": {
          "base_uri": "https://localhost:8080/"
        },
        "outputId": "a613d3fa-5339-45e4-9024-138438f3bc28"
      },
      "execution_count": 24,
      "outputs": [
        {
          "output_type": "stream",
          "name": "stderr",
          "text": [
            "All model checkpoint layers were used when initializing TFGPT2LMHeadModel.\n",
            "\n",
            "All the layers of TFGPT2LMHeadModel were initialized from the model checkpoint at /content/drive/MyDrive/gpt2_finetuned.\n",
            "If your task is similar to the task the model of the checkpoint was trained on, you can already use TFGPT2LMHeadModel for predictions without further training.\n",
            "Device set to use 0\n"
          ]
        },
        {
          "output_type": "stream",
          "name": "stdout",
          "text": [
            "Generated Text:\n",
            "Section 1: All Corps Members shall be entitled to receive an annual salary of $2,500.\n",
            "(Source)\n"
          ]
        }
      ]
    },
    {
      "cell_type": "code",
      "source": [
        "generator = pipeline('text-generation', model=\"/content/drive/MyDrive/gpt2_finetuned\", tokenizer=tokenizer)\n",
        "prompt = \"Section 1: All Corps Members shall\"\n",
        "output = generator(prompt, max_length=100, truncation=True, temperature=0.6, top_k=40, top_p=0.85, repetition_penalty=1.2, do_sample=True)\n",
        "print(\"Generated Text:\")\n",
        "print(output[0]['generated_text'])"
      ],
      "metadata": {
        "id": "qYAxj8lkCrS6",
        "colab": {
          "base_uri": "https://localhost:8080/"
        },
        "outputId": "9f8fa40a-12a1-4e89-c9d4-847e41cb7119"
      },
      "execution_count": 25,
      "outputs": [
        {
          "output_type": "stream",
          "name": "stderr",
          "text": [
            "All model checkpoint layers were used when initializing TFGPT2LMHeadModel.\n",
            "\n",
            "All the layers of TFGPT2LMHeadModel were initialized from the model checkpoint at /content/drive/MyDrive/gpt2_finetuned.\n",
            "If your task is similar to the task the model of the checkpoint was trained on, you can already use TFGPT2LMHeadModel for predictions without further training.\n",
            "Device set to use 0\n"
          ]
        },
        {
          "output_type": "stream",
          "name": "stdout",
          "text": [
            "Generated Text:\n",
            "Section 1: All Corps Members shall be required to obtain a written certification from the Secretary of Defense, as set forth in subsection (b)(1)(B), that they have met all requirements for membership.\n",
            "(2) If an individual is disqualified under paragraph 5 and has been convicted or pleaded guilty before any court on charges relating thereto pursuant\"to section 3304,\"the person may appeal against such conviction by filing with his district attorney within 60 days after he was found not eligible.\"The Department's\n"
          ]
        }
      ]
    },
    {
      "cell_type": "code",
      "source": [
        "# Load your fine-tuned model and tokenizer\n",
        "model_name = 'gpt2'\n",
        "tokenizer = GPT2Tokenizer.from_pretrained(model_name)\n",
        "model = TFGPT2LMHeadModel.from_pretrained(model_name)\n",
        "\n",
        "# --- Helper: Load your training sequences ---\n",
        "# For constrained generation, you may want to load the exact sequences from your dataset\n",
        "# Here we assume you have a text file (or list) with one training sequence per line.\n",
        "with open(\"training_sequences.txt\", \"r\", encoding=\"utf-8\") as f:\n",
        "    training_sequences = {line.strip() for line in f if line.strip()}\n",
        "\n",
        "# --- Generation function with deterministic decoding ---\n",
        "def generate_text(prompt, max_length=100):\n",
        "    # Encode prompt text\n",
        "    input_ids = tokenizer.encode(prompt, return_tensors='tf')\n",
        "    attention_mask = tf.ones_like(input_ids)\n",
        "\n",
        "    # Generate text with deterministic settings:\n",
        "    # Temperature 0 forces the model to choose the highest probability token.\n",
        "    # top_k=1 and top_p=1 restrict the sampling to the most likely token.\n",
        "    # do_sample=False disables random sampling.\n",
        "    output = model.generate(\n",
        "        input_ids,\n",
        "        attention_mask=attention_mask,\n",
        "        max_length=max_length,\n",
        "        temperature=0.0,   # Force deterministic output\n",
        "        top_k=1,           # Only consider the top token\n",
        "        top_p=1.0,         # No nucleus sampling\n",
        "        do_sample=False    # Greedy decoding\n",
        "    )\n",
        "\n",
        "    generated_text = tokenizer.decode(output[0], skip_special_tokens=True)\n",
        "\n",
        "    # --- Post-processing: Ensure exact match with training data ---\n",
        "    # If your goal is to only output sequences present in your training data,\n",
        "    # compare the generated text to your training sequences.\n",
        "    if generated_text in training_sequences:\n",
        "        return generated_text\n",
        "    else:\n",
        "        # Option 1: Return an error or empty string if no exact match is found.\n",
        "        # Option 2: You could loop or try alternative decoding strategies.\n",
        "        print(\"Generated sequence does not match any training example exactly.\")\n",
        "        return \"\"\n",
        "\n",
        "# --- Example usage ---\n",
        "prompt = \"Every member shall attend regulary,\"\n",
        "result = generate_text(prompt, max_length=200)\n",
        "print(\"Final Output:\\n\", result)"
      ],
      "metadata": {
        "id": "J_lvuX6BCrQR",
        "colab": {
          "base_uri": "https://localhost:8080/"
        },
        "outputId": "38db4002-049f-4d8c-a338-ace0218a37cf"
      },
      "execution_count": 36,
      "outputs": [
        {
          "output_type": "stream",
          "name": "stderr",
          "text": [
            "All PyTorch model weights were used when initializing TFGPT2LMHeadModel.\n",
            "\n",
            "All the weights of TFGPT2LMHeadModel were initialized from the PyTorch model.\n",
            "If your task is similar to the task the model of the checkpoint was trained on, you can already use TFGPT2LMHeadModel for predictions without further training.\n"
          ]
        },
        {
          "output_type": "stream",
          "name": "stdout",
          "text": [
            "Generated sequence does not match any training example exactly.\n",
            "Final Output:\n",
            " \n"
          ]
        }
      ]
    },
    {
      "cell_type": "code",
      "source": [],
      "metadata": {
        "id": "NNIKSyLRCrNn"
      },
      "execution_count": 35,
      "outputs": []
    },
    {
      "cell_type": "code",
      "source": [],
      "metadata": {
        "id": "GIBI1_bBCrKv"
      },
      "execution_count": null,
      "outputs": []
    },
    {
      "cell_type": "code",
      "source": [],
      "metadata": {
        "id": "rP4jjKY2CrDY"
      },
      "execution_count": null,
      "outputs": []
    }
  ]
}